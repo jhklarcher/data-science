{
  "nbformat": 4,
  "nbformat_minor": 2,
  "metadata": {
    "kernelspec": {
      "name": "python3",
      "display_name": "Python 3.8.5 64-bit ('base': conda)"
    },
    "language_info": {
      "codemirror_mode": {
        "name": "ipython",
        "version": 3
      },
      "file_extension": ".py",
      "mimetype": "text/x-python",
      "name": "python",
      "nbconvert_exporter": "python",
      "pygments_lexer": "ipython3",
      "version": "3.8.5"
    },
    "colab": {
      "name": "05_prophet.ipynb",
      "provenance": [],
      "collapsed_sections": []
    },
    "interpreter": {
      "hash": "0d3c93603d773a4cc5a84dbbb05f61bd9ccf3ce2de249caf7dd991d5c4525e33"
    }
  },
  "cells": [
    {
      "cell_type": "markdown",
      "source": [
        "# Previsão de temperatura média por mês em Curitiba"
      ],
      "metadata": {}
    },
    {
      "cell_type": "code",
      "execution_count": 1,
      "source": [
        "import pandas as pd\n",
        "from fbprophet import Prophet\n",
        "import matplotlib.pyplot as plt"
      ],
      "outputs": [],
      "metadata": {}
    },
    {
      "cell_type": "markdown",
      "source": [
        "Dataset: https://www.kaggle.com/volpatto/temperature-timeseries-for-some-brazilian-cities"
      ],
      "metadata": {
        "id": "1E5_CM0m8mRB",
        "colab_type": "text"
      }
    },
    {
      "cell_type": "markdown",
      "source": [
        "## Preparando os dados"
      ],
      "metadata": {
        "id": "Ds85s9vlWaCJ",
        "colab_type": "text"
      }
    },
    {
      "cell_type": "code",
      "execution_count": 2,
      "source": [
        "arquivo = 'https://raw.githubusercontent.com/jhklarcher/data-science/master/datasets/station_curitiba.csv' # Nome e local do arquivo\n",
        "df = pd.read_csv(arquivo)"
      ],
      "outputs": [],
      "metadata": {
        "id": "vM_ShsBm8mRF",
        "colab_type": "code",
        "colab": {}
      }
    },
    {
      "cell_type": "code",
      "execution_count": 3,
      "source": [
        "df.shape"
      ],
      "outputs": [
        {
          "output_type": "execute_result",
          "data": {
            "text/plain": [
              "(59, 18)"
            ]
          },
          "metadata": {},
          "execution_count": 3
        }
      ],
      "metadata": {
        "id": "zXY-1CH_8mRc",
        "colab_type": "code",
        "outputId": "780f184f-eb43-4b0d-e73b-ff2db7c77a80",
        "colab": {
          "base_uri": "https://localhost:8080/",
          "height": 34
        }
      }
    },
    {
      "cell_type": "markdown",
      "source": [
        "As temperaturas são registradas por mês nas colunas e ano nas linhas."
      ],
      "metadata": {}
    },
    {
      "cell_type": "code",
      "execution_count": 4,
      "source": [
        "df.head()"
      ],
      "outputs": [
        {
          "output_type": "execute_result",
          "data": {
            "text/plain": [
              "   YEAR    JAN    FEB    MAR    APR    MAY    JUN    JUL    AUG    SEP    OCT  \\\n",
              "0  1961  21.80  21.84  20.51  19.14  16.05  14.87  15.43  17.17  18.56  19.53   \n",
              "1  1962  20.47  20.29  20.78  17.42  14.49  12.19  12.29  14.85  16.46  15.48   \n",
              "2  1963  22.57  21.41  22.06  18.82  15.71  13.76  15.62  16.20  19.65  18.50   \n",
              "3  1964  21.33  21.57  20.29  19.26  15.46  13.03  12.08  14.97  16.93  17.28   \n",
              "4  1965  20.31  21.99  19.11  18.61  15.12  16.17  13.94  16.55  17.66  18.23   \n",
              "\n",
              "     NOV    DEC  D-J-F  M-A-M  J-J-A  S-O-N  metANN  \n",
              "0  20.56  20.81  21.52  18.57  15.82  19.55   18.86  \n",
              "1  19.07  20.01  20.52  17.56  13.11  17.00   17.05  \n",
              "2  20.37  19.79  21.33  18.86  15.19  19.51   18.72  \n",
              "3  17.76  19.47  20.90  18.34  13.36  17.32   17.48  \n",
              "4  19.84  20.92  20.59  17.61  15.55  18.58   18.08  "
            ],
            "text/html": [
              "<div>\n",
              "<style scoped>\n",
              "    .dataframe tbody tr th:only-of-type {\n",
              "        vertical-align: middle;\n",
              "    }\n",
              "\n",
              "    .dataframe tbody tr th {\n",
              "        vertical-align: top;\n",
              "    }\n",
              "\n",
              "    .dataframe thead th {\n",
              "        text-align: right;\n",
              "    }\n",
              "</style>\n",
              "<table border=\"1\" class=\"dataframe\">\n",
              "  <thead>\n",
              "    <tr style=\"text-align: right;\">\n",
              "      <th></th>\n",
              "      <th>YEAR</th>\n",
              "      <th>JAN</th>\n",
              "      <th>FEB</th>\n",
              "      <th>MAR</th>\n",
              "      <th>APR</th>\n",
              "      <th>MAY</th>\n",
              "      <th>JUN</th>\n",
              "      <th>JUL</th>\n",
              "      <th>AUG</th>\n",
              "      <th>SEP</th>\n",
              "      <th>OCT</th>\n",
              "      <th>NOV</th>\n",
              "      <th>DEC</th>\n",
              "      <th>D-J-F</th>\n",
              "      <th>M-A-M</th>\n",
              "      <th>J-J-A</th>\n",
              "      <th>S-O-N</th>\n",
              "      <th>metANN</th>\n",
              "    </tr>\n",
              "  </thead>\n",
              "  <tbody>\n",
              "    <tr>\n",
              "      <th>0</th>\n",
              "      <td>1961</td>\n",
              "      <td>21.80</td>\n",
              "      <td>21.84</td>\n",
              "      <td>20.51</td>\n",
              "      <td>19.14</td>\n",
              "      <td>16.05</td>\n",
              "      <td>14.87</td>\n",
              "      <td>15.43</td>\n",
              "      <td>17.17</td>\n",
              "      <td>18.56</td>\n",
              "      <td>19.53</td>\n",
              "      <td>20.56</td>\n",
              "      <td>20.81</td>\n",
              "      <td>21.52</td>\n",
              "      <td>18.57</td>\n",
              "      <td>15.82</td>\n",
              "      <td>19.55</td>\n",
              "      <td>18.86</td>\n",
              "    </tr>\n",
              "    <tr>\n",
              "      <th>1</th>\n",
              "      <td>1962</td>\n",
              "      <td>20.47</td>\n",
              "      <td>20.29</td>\n",
              "      <td>20.78</td>\n",
              "      <td>17.42</td>\n",
              "      <td>14.49</td>\n",
              "      <td>12.19</td>\n",
              "      <td>12.29</td>\n",
              "      <td>14.85</td>\n",
              "      <td>16.46</td>\n",
              "      <td>15.48</td>\n",
              "      <td>19.07</td>\n",
              "      <td>20.01</td>\n",
              "      <td>20.52</td>\n",
              "      <td>17.56</td>\n",
              "      <td>13.11</td>\n",
              "      <td>17.00</td>\n",
              "      <td>17.05</td>\n",
              "    </tr>\n",
              "    <tr>\n",
              "      <th>2</th>\n",
              "      <td>1963</td>\n",
              "      <td>22.57</td>\n",
              "      <td>21.41</td>\n",
              "      <td>22.06</td>\n",
              "      <td>18.82</td>\n",
              "      <td>15.71</td>\n",
              "      <td>13.76</td>\n",
              "      <td>15.62</td>\n",
              "      <td>16.20</td>\n",
              "      <td>19.65</td>\n",
              "      <td>18.50</td>\n",
              "      <td>20.37</td>\n",
              "      <td>19.79</td>\n",
              "      <td>21.33</td>\n",
              "      <td>18.86</td>\n",
              "      <td>15.19</td>\n",
              "      <td>19.51</td>\n",
              "      <td>18.72</td>\n",
              "    </tr>\n",
              "    <tr>\n",
              "      <th>3</th>\n",
              "      <td>1964</td>\n",
              "      <td>21.33</td>\n",
              "      <td>21.57</td>\n",
              "      <td>20.29</td>\n",
              "      <td>19.26</td>\n",
              "      <td>15.46</td>\n",
              "      <td>13.03</td>\n",
              "      <td>12.08</td>\n",
              "      <td>14.97</td>\n",
              "      <td>16.93</td>\n",
              "      <td>17.28</td>\n",
              "      <td>17.76</td>\n",
              "      <td>19.47</td>\n",
              "      <td>20.90</td>\n",
              "      <td>18.34</td>\n",
              "      <td>13.36</td>\n",
              "      <td>17.32</td>\n",
              "      <td>17.48</td>\n",
              "    </tr>\n",
              "    <tr>\n",
              "      <th>4</th>\n",
              "      <td>1965</td>\n",
              "      <td>20.31</td>\n",
              "      <td>21.99</td>\n",
              "      <td>19.11</td>\n",
              "      <td>18.61</td>\n",
              "      <td>15.12</td>\n",
              "      <td>16.17</td>\n",
              "      <td>13.94</td>\n",
              "      <td>16.55</td>\n",
              "      <td>17.66</td>\n",
              "      <td>18.23</td>\n",
              "      <td>19.84</td>\n",
              "      <td>20.92</td>\n",
              "      <td>20.59</td>\n",
              "      <td>17.61</td>\n",
              "      <td>15.55</td>\n",
              "      <td>18.58</td>\n",
              "      <td>18.08</td>\n",
              "    </tr>\n",
              "  </tbody>\n",
              "</table>\n",
              "</div>"
            ]
          },
          "metadata": {},
          "execution_count": 4
        }
      ],
      "metadata": {
        "id": "i3V0pB2h8mRs",
        "colab_type": "code",
        "outputId": "0280fe4f-3ce7-4110-987d-957c6e2158ff",
        "colab": {
          "base_uri": "https://localhost:8080/",
          "height": 204
        }
      }
    },
    {
      "cell_type": "markdown",
      "source": [
        "Removendo as ultimas colunas (temperatura por trimestre)."
      ],
      "metadata": {}
    },
    {
      "cell_type": "code",
      "execution_count": 5,
      "source": [
        "df = df.iloc[:, :-5]"
      ],
      "outputs": [],
      "metadata": {
        "id": "X5Er2E408mR2",
        "colab_type": "code",
        "colab": {}
      }
    },
    {
      "cell_type": "markdown",
      "source": [
        "Deixando a temperatura por mes em formato de coluna. Em seguida transformando os dados para o formato que o Prophet utiliza."
      ],
      "metadata": {}
    },
    {
      "cell_type": "code",
      "execution_count": 6,
      "source": [
        "df = pd.melt(df, id_vars=['YEAR'])"
      ],
      "outputs": [],
      "metadata": {
        "id": "aH7hsnVfkpsI",
        "colab_type": "code",
        "colab": {}
      }
    },
    {
      "cell_type": "code",
      "execution_count": 7,
      "source": [
        "df.head()"
      ],
      "outputs": [
        {
          "output_type": "execute_result",
          "data": {
            "text/plain": [
              "   YEAR variable  value\n",
              "0  1961      JAN  21.80\n",
              "1  1962      JAN  20.47\n",
              "2  1963      JAN  22.57\n",
              "3  1964      JAN  21.33\n",
              "4  1965      JAN  20.31"
            ],
            "text/html": [
              "<div>\n",
              "<style scoped>\n",
              "    .dataframe tbody tr th:only-of-type {\n",
              "        vertical-align: middle;\n",
              "    }\n",
              "\n",
              "    .dataframe tbody tr th {\n",
              "        vertical-align: top;\n",
              "    }\n",
              "\n",
              "    .dataframe thead th {\n",
              "        text-align: right;\n",
              "    }\n",
              "</style>\n",
              "<table border=\"1\" class=\"dataframe\">\n",
              "  <thead>\n",
              "    <tr style=\"text-align: right;\">\n",
              "      <th></th>\n",
              "      <th>YEAR</th>\n",
              "      <th>variable</th>\n",
              "      <th>value</th>\n",
              "    </tr>\n",
              "  </thead>\n",
              "  <tbody>\n",
              "    <tr>\n",
              "      <th>0</th>\n",
              "      <td>1961</td>\n",
              "      <td>JAN</td>\n",
              "      <td>21.80</td>\n",
              "    </tr>\n",
              "    <tr>\n",
              "      <th>1</th>\n",
              "      <td>1962</td>\n",
              "      <td>JAN</td>\n",
              "      <td>20.47</td>\n",
              "    </tr>\n",
              "    <tr>\n",
              "      <th>2</th>\n",
              "      <td>1963</td>\n",
              "      <td>JAN</td>\n",
              "      <td>22.57</td>\n",
              "    </tr>\n",
              "    <tr>\n",
              "      <th>3</th>\n",
              "      <td>1964</td>\n",
              "      <td>JAN</td>\n",
              "      <td>21.33</td>\n",
              "    </tr>\n",
              "    <tr>\n",
              "      <th>4</th>\n",
              "      <td>1965</td>\n",
              "      <td>JAN</td>\n",
              "      <td>20.31</td>\n",
              "    </tr>\n",
              "  </tbody>\n",
              "</table>\n",
              "</div>"
            ]
          },
          "metadata": {},
          "execution_count": 7
        }
      ],
      "metadata": {
        "id": "GwhBNLNlnA_y",
        "colab_type": "code",
        "colab": {
          "base_uri": "https://localhost:8080/",
          "height": 204
        },
        "outputId": "5aed946e-7ded-4164-a540-a31b8fe21e8b"
      }
    },
    {
      "cell_type": "code",
      "execution_count": 8,
      "source": [
        "df['date'] = df['YEAR'].astype(str)+'/'+ df['variable']"
      ],
      "outputs": [],
      "metadata": {
        "id": "_54L1eydl5-S",
        "colab_type": "code",
        "colab": {}
      }
    },
    {
      "cell_type": "code",
      "execution_count": 9,
      "source": [
        "df.head()"
      ],
      "outputs": [
        {
          "output_type": "execute_result",
          "data": {
            "text/plain": [
              "   YEAR variable  value      date\n",
              "0  1961      JAN  21.80  1961/JAN\n",
              "1  1962      JAN  20.47  1962/JAN\n",
              "2  1963      JAN  22.57  1963/JAN\n",
              "3  1964      JAN  21.33  1964/JAN\n",
              "4  1965      JAN  20.31  1965/JAN"
            ],
            "text/html": [
              "<div>\n",
              "<style scoped>\n",
              "    .dataframe tbody tr th:only-of-type {\n",
              "        vertical-align: middle;\n",
              "    }\n",
              "\n",
              "    .dataframe tbody tr th {\n",
              "        vertical-align: top;\n",
              "    }\n",
              "\n",
              "    .dataframe thead th {\n",
              "        text-align: right;\n",
              "    }\n",
              "</style>\n",
              "<table border=\"1\" class=\"dataframe\">\n",
              "  <thead>\n",
              "    <tr style=\"text-align: right;\">\n",
              "      <th></th>\n",
              "      <th>YEAR</th>\n",
              "      <th>variable</th>\n",
              "      <th>value</th>\n",
              "      <th>date</th>\n",
              "    </tr>\n",
              "  </thead>\n",
              "  <tbody>\n",
              "    <tr>\n",
              "      <th>0</th>\n",
              "      <td>1961</td>\n",
              "      <td>JAN</td>\n",
              "      <td>21.80</td>\n",
              "      <td>1961/JAN</td>\n",
              "    </tr>\n",
              "    <tr>\n",
              "      <th>1</th>\n",
              "      <td>1962</td>\n",
              "      <td>JAN</td>\n",
              "      <td>20.47</td>\n",
              "      <td>1962/JAN</td>\n",
              "    </tr>\n",
              "    <tr>\n",
              "      <th>2</th>\n",
              "      <td>1963</td>\n",
              "      <td>JAN</td>\n",
              "      <td>22.57</td>\n",
              "      <td>1963/JAN</td>\n",
              "    </tr>\n",
              "    <tr>\n",
              "      <th>3</th>\n",
              "      <td>1964</td>\n",
              "      <td>JAN</td>\n",
              "      <td>21.33</td>\n",
              "      <td>1964/JAN</td>\n",
              "    </tr>\n",
              "    <tr>\n",
              "      <th>4</th>\n",
              "      <td>1965</td>\n",
              "      <td>JAN</td>\n",
              "      <td>20.31</td>\n",
              "      <td>1965/JAN</td>\n",
              "    </tr>\n",
              "  </tbody>\n",
              "</table>\n",
              "</div>"
            ]
          },
          "metadata": {},
          "execution_count": 9
        }
      ],
      "metadata": {
        "id": "9XNC7QLombpe",
        "colab_type": "code",
        "colab": {
          "base_uri": "https://localhost:8080/",
          "height": 204
        },
        "outputId": "7aab0275-a9e8-4cb2-e174-8309c24ffa9d"
      }
    },
    {
      "cell_type": "code",
      "execution_count": 10,
      "source": [
        "df = df.drop(['YEAR', 'variable'], axis=1)"
      ],
      "outputs": [],
      "metadata": {
        "id": "4l3cb9YQnGWE",
        "colab_type": "code",
        "colab": {}
      }
    },
    {
      "cell_type": "code",
      "execution_count": 11,
      "source": [
        "df['date'] = pd.to_datetime(df['date'])\n",
        "df.columns = ['y', 'ds']"
      ],
      "outputs": [],
      "metadata": {
        "id": "obOewm3nnQ2Q",
        "colab_type": "code",
        "colab": {}
      }
    },
    {
      "cell_type": "code",
      "execution_count": 12,
      "source": [
        "df = (df.sort_values('ds')).reset_index(drop=True)"
      ],
      "outputs": [],
      "metadata": {
        "id": "u-QpKOUGrmtE",
        "colab_type": "code",
        "colab": {}
      }
    },
    {
      "cell_type": "code",
      "execution_count": 13,
      "source": [
        "df.head()"
      ],
      "outputs": [
        {
          "output_type": "execute_result",
          "data": {
            "text/plain": [
              "       y         ds\n",
              "0  21.80 1961-01-01\n",
              "1  21.84 1961-02-01\n",
              "2  20.51 1961-03-01\n",
              "3  19.14 1961-04-01\n",
              "4  16.05 1961-05-01"
            ],
            "text/html": [
              "<div>\n",
              "<style scoped>\n",
              "    .dataframe tbody tr th:only-of-type {\n",
              "        vertical-align: middle;\n",
              "    }\n",
              "\n",
              "    .dataframe tbody tr th {\n",
              "        vertical-align: top;\n",
              "    }\n",
              "\n",
              "    .dataframe thead th {\n",
              "        text-align: right;\n",
              "    }\n",
              "</style>\n",
              "<table border=\"1\" class=\"dataframe\">\n",
              "  <thead>\n",
              "    <tr style=\"text-align: right;\">\n",
              "      <th></th>\n",
              "      <th>y</th>\n",
              "      <th>ds</th>\n",
              "    </tr>\n",
              "  </thead>\n",
              "  <tbody>\n",
              "    <tr>\n",
              "      <th>0</th>\n",
              "      <td>21.80</td>\n",
              "      <td>1961-01-01</td>\n",
              "    </tr>\n",
              "    <tr>\n",
              "      <th>1</th>\n",
              "      <td>21.84</td>\n",
              "      <td>1961-02-01</td>\n",
              "    </tr>\n",
              "    <tr>\n",
              "      <th>2</th>\n",
              "      <td>20.51</td>\n",
              "      <td>1961-03-01</td>\n",
              "    </tr>\n",
              "    <tr>\n",
              "      <th>3</th>\n",
              "      <td>19.14</td>\n",
              "      <td>1961-04-01</td>\n",
              "    </tr>\n",
              "    <tr>\n",
              "      <th>4</th>\n",
              "      <td>16.05</td>\n",
              "      <td>1961-05-01</td>\n",
              "    </tr>\n",
              "  </tbody>\n",
              "</table>\n",
              "</div>"
            ]
          },
          "metadata": {},
          "execution_count": 13
        }
      ],
      "metadata": {
        "id": "MhEck2Jmnscb",
        "colab_type": "code",
        "colab": {
          "base_uri": "https://localhost:8080/",
          "height": 419
        },
        "outputId": "ecd8b37e-1b8f-461e-9b27-1267e30212e2"
      }
    },
    {
      "cell_type": "markdown",
      "source": [
        "Observando os dados"
      ],
      "metadata": {}
    },
    {
      "cell_type": "code",
      "execution_count": 14,
      "source": [
        "plt.rcParams[\"figure.figsize\"] = (15,3)\n",
        "plt.plot(df['y'])"
      ],
      "outputs": [
        {
          "output_type": "execute_result",
          "data": {
            "text/plain": [
              "[<matplotlib.lines.Line2D at 0x7f1ac48e3ca0>]"
            ]
          },
          "metadata": {},
          "execution_count": 14
        },
        {
          "output_type": "display_data",
          "data": {
            "text/plain": [
              "<Figure size 1080x216 with 1 Axes>"
            ],
            "image/png": "[encoded data removed]"
          },
          "metadata": {
            "needs_background": "light"
          }
        }
      ],
      "metadata": {}
    },
    {
      "cell_type": "markdown",
      "source": [
        "Removendo outliers."
      ],
      "metadata": {}
    },
    {
      "cell_type": "code",
      "execution_count": 15,
      "source": [
        "df = df[df['y']<500]"
      ],
      "outputs": [],
      "metadata": {
        "id": "7gFQPpSVuKwX",
        "colab_type": "code",
        "colab": {}
      }
    },
    {
      "cell_type": "markdown",
      "source": [
        "Agora sem os outliers"
      ],
      "metadata": {}
    },
    {
      "cell_type": "code",
      "execution_count": 16,
      "source": [
        "plt.rcParams[\"figure.figsize\"] = (15,3)\n",
        "plt.plot(df['y'])"
      ],
      "outputs": [
        {
          "output_type": "execute_result",
          "data": {
            "text/plain": [
              "[<matplotlib.lines.Line2D at 0x7f1ac7a9c400>]"
            ]
          },
          "metadata": {},
          "execution_count": 16
        },
        {
          "output_type": "display_data",
          "data": {
            "text/plain": [
              "<Figure size 1080x216 with 1 Axes>"
            ],
            "image/png": "[encoded data removed]"
          },
          "metadata": {
            "needs_background": "light"
          }
        }
      ],
      "metadata": {}
    },
    {
      "cell_type": "markdown",
      "source": [
        "## Modelo"
      ],
      "metadata": {
        "id": "m42i_Pkesvxf",
        "colab_type": "text"
      }
    },
    {
      "cell_type": "code",
      "execution_count": 17,
      "source": [
        "df_test = df.iloc[-12:, :]\n",
        "df_train = df.iloc[:-12, :]"
      ],
      "outputs": [],
      "metadata": {
        "id": "9tHA062a8mSl",
        "colab_type": "code",
        "colab": {}
      }
    },
    {
      "cell_type": "code",
      "execution_count": 18,
      "source": [
        "m = Prophet()\n",
        "m.fit(df_train)"
      ],
      "outputs": [
        {
          "output_type": "stream",
          "name": "stderr",
          "text": [
            "INFO:fbprophet:Disabling weekly seasonality. Run prophet with weekly_seasonality=True to override this.\n",
            "INFO:fbprophet:Disabling daily seasonality. Run prophet with daily_seasonality=True to override this.\n"
          ]
        },
        {
          "output_type": "execute_result",
          "data": {
            "text/plain": [
              "<fbprophet.forecaster.Prophet at 0x7f1ac404bf10>"
            ]
          },
          "metadata": {},
          "execution_count": 18
        }
      ],
      "metadata": {
        "id": "cFA2Twxf8mSd",
        "colab_type": "code",
        "colab": {
          "base_uri": "https://localhost:8080/",
          "height": 68
        },
        "outputId": "c98769f9-e63f-4faa-80d6-7118021a885d"
      }
    },
    {
      "cell_type": "code",
      "execution_count": 19,
      "source": [
        "preds = m.predict(df_test)"
      ],
      "outputs": [],
      "metadata": {
        "id": "tSPXDhh8suLU",
        "colab_type": "code",
        "colab": {}
      }
    },
    {
      "cell_type": "markdown",
      "source": [
        "## Calculando o erro médio absoluto das previsões"
      ],
      "metadata": {
        "id": "cNJKU5qyxSQ2",
        "colab_type": "text"
      }
    },
    {
      "cell_type": "code",
      "execution_count": 20,
      "source": [
        "from sklearn.metrics import mean_absolute_error\n",
        "\n",
        "mean_absolute_error(preds['yhat'], df_test['y'])"
      ],
      "outputs": [
        {
          "output_type": "execute_result",
          "data": {
            "text/plain": [
              "1.1073973318076356"
            ]
          },
          "metadata": {},
          "execution_count": 20
        }
      ],
      "metadata": {
        "id": "6q30-gi0s9wE",
        "colab_type": "code",
        "colab": {
          "base_uri": "https://localhost:8080/",
          "height": 34
        },
        "outputId": "72b71e70-fc7c-428b-fe00-d2ae2379f957"
      }
    },
    {
      "cell_type": "markdown",
      "source": [
        "O erro é de menos aproximadamente 1°C"
      ],
      "metadata": {
        "id": "l5weZHGkxcm8",
        "colab_type": "text"
      }
    },
    {
      "cell_type": "markdown",
      "source": [
        "## Visualizando os valores previstos pelo modelo"
      ],
      "metadata": {
        "id": "kdzBk3-VxTs2",
        "colab_type": "text"
      }
    },
    {
      "cell_type": "markdown",
      "source": [
        "Componentes do modelo"
      ],
      "metadata": {
        "id": "X8qe9z2hx-ml",
        "colab_type": "text"
      }
    },
    {
      "cell_type": "code",
      "execution_count": 21,
      "source": [
        "p2 = m.plot_components(preds)"
      ],
      "outputs": [
        {
          "output_type": "display_data",
          "data": {
            "text/plain": [
              "<Figure size 648x432 with 2 Axes>"
            ],
            "image/png": "[encoded data removed]"
          },
          "metadata": {}
        }
      ],
      "metadata": {
        "id": "QL8ung7Ot2eC",
        "colab_type": "code",
        "colab": {
          "base_uri": "https://localhost:8080/",
          "height": 441
        },
        "outputId": "050759ae-9994-40d6-b9ca-358a61a6615d"
      }
    },
    {
      "cell_type": "markdown",
      "source": [
        "Diferença entre previsto e modelo."
      ],
      "metadata": {
        "id": "yyo9ZlUyyBSB",
        "colab_type": "text"
      }
    },
    {
      "cell_type": "code",
      "execution_count": 22,
      "source": [
        "plt.rcParams[\"figure.figsize\"] = (15, 3)\n",
        "\n",
        "plt.plot(df.tail(60)['ds'], df.tail(60)['y'])\n",
        "plt.plot(df_test['ds'], preds['yhat'])\n",
        "plt.plot(df_test['ds'], preds['yhat_lower'])\n",
        "plt.plot(df_test['ds'], preds['yhat_upper'])"
      ],
      "outputs": [
        {
          "output_type": "execute_result",
          "data": {
            "text/plain": [
              "[<matplotlib.lines.Line2D at 0x7f1ab7303460>]"
            ]
          },
          "metadata": {},
          "execution_count": 22
        },
        {
          "output_type": "display_data",
          "data": {
            "text/plain": [
              "<Figure size 1080x216 with 1 Axes>"
            ],
            "image/png": "[encoded data removed]"
          },
          "metadata": {
            "needs_background": "light"
          }
        }
      ],
      "metadata": {
        "id": "TskMCIYlupOE",
        "colab_type": "code",
        "colab": {
          "base_uri": "https://localhost:8080/",
          "height": 445
        },
        "outputId": "f981f2e7-97bc-4d40-c67f-a7d9c556c1bb"
      }
    },
    {
      "cell_type": "markdown",
      "source": [
        "Previsão para o ano seguinte"
      ],
      "metadata": {
        "id": "F8NFBaWEyLqc",
        "colab_type": "text"
      }
    },
    {
      "cell_type": "code",
      "execution_count": 23,
      "source": [
        "m = Prophet()\n",
        "m.fit(df)"
      ],
      "outputs": [
        {
          "output_type": "stream",
          "name": "stderr",
          "text": [
            "INFO:fbprophet:Disabling weekly seasonality. Run prophet with weekly_seasonality=True to override this.\n",
            "INFO:fbprophet:Disabling daily seasonality. Run prophet with daily_seasonality=True to override this.\n"
          ]
        },
        {
          "output_type": "execute_result",
          "data": {
            "text/plain": [
              "<fbprophet.forecaster.Prophet at 0x7f1ab7317490>"
            ]
          },
          "metadata": {},
          "execution_count": 23
        }
      ],
      "metadata": {
        "id": "6TSL7SfewoAY",
        "colab_type": "code",
        "colab": {
          "base_uri": "https://localhost:8080/",
          "height": 68
        },
        "outputId": "7a0ce466-b585-408c-99e7-0ff3ac84ea75"
      }
    },
    {
      "cell_type": "code",
      "execution_count": 24,
      "source": [
        "future = []\n",
        "for i in range(11,13):\n",
        "    future.append('2019-{:02d}-01'.format(i))\n",
        "for i in range(1,11):\n",
        "    future.append('2020-{:02d}-01'.format(i))"
      ],
      "outputs": [],
      "metadata": {
        "id": "KsnGFEA9yKVg",
        "colab_type": "code",
        "colab": {}
      }
    },
    {
      "cell_type": "code",
      "execution_count": 25,
      "source": [
        "future = pd.Series(future, name=\"ds\")"
      ],
      "outputs": [],
      "metadata": {}
    },
    {
      "cell_type": "code",
      "execution_count": 26,
      "source": [
        "future = pd.DataFrame(pd.to_datetime(future, format='%Y-%m-%d'))"
      ],
      "outputs": [],
      "metadata": {}
    },
    {
      "cell_type": "code",
      "execution_count": 27,
      "source": [
        "future"
      ],
      "outputs": [
        {
          "output_type": "execute_result",
          "data": {
            "text/plain": [
              "           ds\n",
              "0  2019-11-01\n",
              "1  2019-12-01\n",
              "2  2020-01-01\n",
              "3  2020-02-01\n",
              "4  2020-03-01\n",
              "5  2020-04-01\n",
              "6  2020-05-01\n",
              "7  2020-06-01\n",
              "8  2020-07-01\n",
              "9  2020-08-01\n",
              "10 2020-09-01\n",
              "11 2020-10-01"
            ],
            "text/html": [
              "<div>\n",
              "<style scoped>\n",
              "    .dataframe tbody tr th:only-of-type {\n",
              "        vertical-align: middle;\n",
              "    }\n",
              "\n",
              "    .dataframe tbody tr th {\n",
              "        vertical-align: top;\n",
              "    }\n",
              "\n",
              "    .dataframe thead th {\n",
              "        text-align: right;\n",
              "    }\n",
              "</style>\n",
              "<table border=\"1\" class=\"dataframe\">\n",
              "  <thead>\n",
              "    <tr style=\"text-align: right;\">\n",
              "      <th></th>\n",
              "      <th>ds</th>\n",
              "    </tr>\n",
              "  </thead>\n",
              "  <tbody>\n",
              "    <tr>\n",
              "      <th>0</th>\n",
              "      <td>2019-11-01</td>\n",
              "    </tr>\n",
              "    <tr>\n",
              "      <th>1</th>\n",
              "      <td>2019-12-01</td>\n",
              "    </tr>\n",
              "    <tr>\n",
              "      <th>2</th>\n",
              "      <td>2020-01-01</td>\n",
              "    </tr>\n",
              "    <tr>\n",
              "      <th>3</th>\n",
              "      <td>2020-02-01</td>\n",
              "    </tr>\n",
              "    <tr>\n",
              "      <th>4</th>\n",
              "      <td>2020-03-01</td>\n",
              "    </tr>\n",
              "    <tr>\n",
              "      <th>5</th>\n",
              "      <td>2020-04-01</td>\n",
              "    </tr>\n",
              "    <tr>\n",
              "      <th>6</th>\n",
              "      <td>2020-05-01</td>\n",
              "    </tr>\n",
              "    <tr>\n",
              "      <th>7</th>\n",
              "      <td>2020-06-01</td>\n",
              "    </tr>\n",
              "    <tr>\n",
              "      <th>8</th>\n",
              "      <td>2020-07-01</td>\n",
              "    </tr>\n",
              "    <tr>\n",
              "      <th>9</th>\n",
              "      <td>2020-08-01</td>\n",
              "    </tr>\n",
              "    <tr>\n",
              "      <th>10</th>\n",
              "      <td>2020-09-01</td>\n",
              "    </tr>\n",
              "    <tr>\n",
              "      <th>11</th>\n",
              "      <td>2020-10-01</td>\n",
              "    </tr>\n",
              "  </tbody>\n",
              "</table>\n",
              "</div>"
            ]
          },
          "metadata": {},
          "execution_count": 27
        }
      ],
      "metadata": {}
    },
    {
      "cell_type": "code",
      "execution_count": 28,
      "source": [
        "df.tail()"
      ],
      "outputs": [
        {
          "output_type": "execute_result",
          "data": {
            "text/plain": [
              "         y         ds\n",
              "701  17.15 2019-06-01\n",
              "702  15.45 2019-07-01\n",
              "703  16.10 2019-08-01\n",
              "704  18.00 2019-09-01\n",
              "705  21.25 2019-10-01"
            ],
            "text/html": [
              "<div>\n",
              "<style scoped>\n",
              "    .dataframe tbody tr th:only-of-type {\n",
              "        vertical-align: middle;\n",
              "    }\n",
              "\n",
              "    .dataframe tbody tr th {\n",
              "        vertical-align: top;\n",
              "    }\n",
              "\n",
              "    .dataframe thead th {\n",
              "        text-align: right;\n",
              "    }\n",
              "</style>\n",
              "<table border=\"1\" class=\"dataframe\">\n",
              "  <thead>\n",
              "    <tr style=\"text-align: right;\">\n",
              "      <th></th>\n",
              "      <th>y</th>\n",
              "      <th>ds</th>\n",
              "    </tr>\n",
              "  </thead>\n",
              "  <tbody>\n",
              "    <tr>\n",
              "      <th>701</th>\n",
              "      <td>17.15</td>\n",
              "      <td>2019-06-01</td>\n",
              "    </tr>\n",
              "    <tr>\n",
              "      <th>702</th>\n",
              "      <td>15.45</td>\n",
              "      <td>2019-07-01</td>\n",
              "    </tr>\n",
              "    <tr>\n",
              "      <th>703</th>\n",
              "      <td>16.10</td>\n",
              "      <td>2019-08-01</td>\n",
              "    </tr>\n",
              "    <tr>\n",
              "      <th>704</th>\n",
              "      <td>18.00</td>\n",
              "      <td>2019-09-01</td>\n",
              "    </tr>\n",
              "    <tr>\n",
              "      <th>705</th>\n",
              "      <td>21.25</td>\n",
              "      <td>2019-10-01</td>\n",
              "    </tr>\n",
              "  </tbody>\n",
              "</table>\n",
              "</div>"
            ]
          },
          "metadata": {},
          "execution_count": 28
        }
      ],
      "metadata": {}
    },
    {
      "cell_type": "code",
      "execution_count": 29,
      "source": [
        "forecast = m.predict(future)\n",
        "forecast[['ds', 'yhat', 'yhat_lower', 'yhat_upper']].head()"
      ],
      "outputs": [
        {
          "output_type": "execute_result",
          "data": {
            "text/plain": [
              "          ds       yhat  yhat_lower  yhat_upper\n",
              "0 2019-11-01  20.733266   19.397101   22.115035\n",
              "1 2019-12-01  22.343606   21.065370   23.780319\n",
              "2 2020-01-01  23.201837   21.874197   24.584566\n",
              "3 2020-02-01  23.156544   21.705478   24.504582\n",
              "4 2020-03-01  22.077880   20.763033   23.446403"
            ],
            "text/html": [
              "<div>\n",
              "<style scoped>\n",
              "    .dataframe tbody tr th:only-of-type {\n",
              "        vertical-align: middle;\n",
              "    }\n",
              "\n",
              "    .dataframe tbody tr th {\n",
              "        vertical-align: top;\n",
              "    }\n",
              "\n",
              "    .dataframe thead th {\n",
              "        text-align: right;\n",
              "    }\n",
              "</style>\n",
              "<table border=\"1\" class=\"dataframe\">\n",
              "  <thead>\n",
              "    <tr style=\"text-align: right;\">\n",
              "      <th></th>\n",
              "      <th>ds</th>\n",
              "      <th>yhat</th>\n",
              "      <th>yhat_lower</th>\n",
              "      <th>yhat_upper</th>\n",
              "    </tr>\n",
              "  </thead>\n",
              "  <tbody>\n",
              "    <tr>\n",
              "      <th>0</th>\n",
              "      <td>2019-11-01</td>\n",
              "      <td>20.733266</td>\n",
              "      <td>19.397101</td>\n",
              "      <td>22.115035</td>\n",
              "    </tr>\n",
              "    <tr>\n",
              "      <th>1</th>\n",
              "      <td>2019-12-01</td>\n",
              "      <td>22.343606</td>\n",
              "      <td>21.065370</td>\n",
              "      <td>23.780319</td>\n",
              "    </tr>\n",
              "    <tr>\n",
              "      <th>2</th>\n",
              "      <td>2020-01-01</td>\n",
              "      <td>23.201837</td>\n",
              "      <td>21.874197</td>\n",
              "      <td>24.584566</td>\n",
              "    </tr>\n",
              "    <tr>\n",
              "      <th>3</th>\n",
              "      <td>2020-02-01</td>\n",
              "      <td>23.156544</td>\n",
              "      <td>21.705478</td>\n",
              "      <td>24.504582</td>\n",
              "    </tr>\n",
              "    <tr>\n",
              "      <th>4</th>\n",
              "      <td>2020-03-01</td>\n",
              "      <td>22.077880</td>\n",
              "      <td>20.763033</td>\n",
              "      <td>23.446403</td>\n",
              "    </tr>\n",
              "  </tbody>\n",
              "</table>\n",
              "</div>"
            ]
          },
          "metadata": {},
          "execution_count": 29
        }
      ],
      "metadata": {
        "id": "B4GXGfBnykdi",
        "colab_type": "code",
        "colab": {
          "base_uri": "https://localhost:8080/",
          "height": 204
        },
        "outputId": "bdb93db7-78cd-4a5e-c2cd-10c948924bd1"
      }
    },
    {
      "cell_type": "code",
      "execution_count": 30,
      "source": [
        "plt.plot(forecast['ds'], forecast['yhat'])\n",
        "plt.plot(df.tail(60)['ds'], df.tail(60)['y'])\n",
        "plt.plot(forecast['ds'], forecast['yhat_upper'])\n",
        "plt.plot(forecast['ds'], forecast['yhat_lower'])\n",
        "\n"
      ],
      "outputs": [
        {
          "output_type": "execute_result",
          "data": {
            "text/plain": [
              "[<matplotlib.lines.Line2D at 0x7f1ab4af5730>]"
            ]
          },
          "metadata": {},
          "execution_count": 30
        },
        {
          "output_type": "display_data",
          "data": {
            "text/plain": [
              "<Figure size 1080x216 with 1 Axes>"
            ],
            "image/png": "[encoded data removed]"
          },
          "metadata": {
            "needs_background": "light"
          }
        }
      ],
      "metadata": {
        "id": "QQ07XCY7ylRQ",
        "colab_type": "code",
        "colab": {
          "base_uri": "https://localhost:8080/",
          "height": 445
        },
        "outputId": "fef5ff87-53eb-431e-cd47-40f0c166322b"
      }
    }
  ]
}