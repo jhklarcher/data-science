{
  "nbformat": 4,
  "nbformat_minor": 0,
  "metadata": {
    "colab": {
      "name": "08_keras-functional-api.ipynb",
      "provenance": [],
      "collapsed_sections": [],
      "authorship_tag": "ABX9TyO3TpM0qNDHIZEUPZ35tmo+"
    },
    "kernelspec": {
      "name": "python3",
      "display_name": "Python 3"
    },
    "language_info": {
      "name": "python"
    }
  },
  "cells": [
    {
      "cell_type": "markdown",
      "metadata": {
        "id": "6Y5XyZpBac1f"
      },
      "source": [
        "# Utilizando a API funcional do keras para criar uma rede neural MLP\n",
        "\n",
        "Nesse notebook é utilizado o dataset [Concrete Compressive Strength Data Set](https://archive.ics.uci.edu/ml/datasets/concrete+compressive+strength), onde as features são:\n",
        "\n",
        "* Aglomerante: Cement (kg in a m3 mixture)\n",
        "* Escória de Alto Forno: Blast Furnace Slag (kg in a m3 mixture)\n",
        "* Cinzas volantes: Fly Ash (kg in a m3 mixture)\n",
        "* Água: Water (kg in a m3 mixture)\n",
        "* Superplastificante: Superplasticizer (kg in a m3 mixture)\n",
        "* Agregado graúdo: Coarse Aggregate (kg in a m3 mixture)\n",
        "* Agregado fino: Fine Aggregate (kg in a m3 mixture)\n",
        "* Idade: Age (Day (1~365))\n",
        "\n",
        "O objetivo é com essas features obter a resistência à compressão do concreto, em inglês: Concrete compressive strength (MPa).\n",
        "\n",
        "Primeiro são importadas as bibliotecas."
      ]
    },
    {
      "cell_type": "code",
      "metadata": {
        "id": "AfMBplehFX9d"
      },
      "source": [
        "import numpy as np\n",
        "import tensorflow as tf\n",
        "from tensorflow import keras\n",
        "from tensorflow.keras import layers\n",
        "\n",
        "from keras.models import Model\n",
        "from keras.layers import Input\n",
        "from keras.layers import Dense\n",
        "\n",
        "from sklearn.metrics import mean_absolute_error\n",
        "from sklearn.model_selection import cross_val_score\n",
        "\n",
        "import numpy as np\n",
        "\n",
        "import pandas as pd\n",
        "\n",
        "np.random.seed(0)\n",
        "tf.random.set_seed(0)\n"
      ],
      "execution_count": 1,
      "outputs": []
    },
    {
      "cell_type": "markdown",
      "metadata": {
        "id": "1br2z6uleLqo"
      },
      "source": [
        "O dataset é aberto usando o pandas. O formato original é em xls, então também é especificada a planilha aser aberta, a primeira. As features são renomeadas para facilitar as referências.\n",
        "\n",
        "São definidos os dataframes com features e variável de saída."
      ]
    },
    {
      "cell_type": "code",
      "metadata": {
        "id": "3fn6LiebGrD2"
      },
      "source": [
        "url = \"https://archive.ics.uci.edu/ml/machine-learning-databases/concrete/compressive/Concrete_Data.xls\"\n",
        "df = pd.read_excel(url, sheet_name=0)\n",
        "\n",
        "df.columns = ['cement', 'slag', 'ash', 'water', 'superplasticizer', 'coarse_aggregate', 'fine_aggregate', 'age', 'compressive_strength']\n",
        "\n",
        "X = (df.drop(['compressive_strength'], axis=1))\n",
        "y = (df['compressive_strength'])"
      ],
      "execution_count": 2,
      "outputs": []
    },
    {
      "cell_type": "markdown",
      "metadata": {
        "id": "SY0HAgyqfDoz"
      },
      "source": [
        "O dataset é dividido em treino e teste."
      ]
    },
    {
      "cell_type": "code",
      "metadata": {
        "id": "B_Yc7iqPFYhl"
      },
      "source": [
        "from sklearn.model_selection import train_test_split\n",
        "\n",
        "X_train, X_test, y_train, y_test = train_test_split(X, y, test_size=0.3, random_state=0)"
      ],
      "execution_count": 3,
      "outputs": []
    },
    {
      "cell_type": "code",
      "metadata": {
        "id": "jF4BlAJJiOcu"
      },
      "source": [
        "from sklearn.preprocessing import StandardScaler\n",
        "\n",
        "scl = StandardScaler()\n",
        "\n",
        "X_train = scl.fit_transform(X_train)\n",
        "X_test = scl.transform(X_test)"
      ],
      "execution_count": 4,
      "outputs": []
    },
    {
      "cell_type": "markdown",
      "metadata": {
        "id": "5TgFvZuhfN6l"
      },
      "source": [
        "São definidas duas variáveis para a média e o desvio padrão da variável alvo. "
      ]
    },
    {
      "cell_type": "code",
      "metadata": {
        "id": "RvkepLKBRbAB"
      },
      "source": [
        "mean = y_train.mean()\n",
        "std = y_train.std()"
      ],
      "execution_count": 5,
      "outputs": []
    },
    {
      "cell_type": "markdown",
      "metadata": {
        "id": "iqNi8ntff_lU"
      },
      "source": [
        "Uma função para ciração da rede é definida utilizando a API funcional do Keras. Isso permite com que o resultado final da rede seja multiplicado pelo desvio padrão e somado à média. Dessa forma os pesos são ajustados à variàvel objetivo padronizada."
      ]
    },
    {
      "cell_type": "code",
      "metadata": {
        "id": "Le1cAnfcPJL_"
      },
      "source": [
        "def create_model():\n",
        "  x = Input(shape=(X_train.shape[1],))\n",
        "  hidden1 = Dense(20, activation='relu')(x)\n",
        "  hidden2 = Dense(100, activation='relu')(hidden1)\n",
        "  hidden3 = Dense(20, activation='relu')(hidden2)\n",
        "  hidden4 = Dense(1)(hidden3)\n",
        "  output = hidden4 * std + mean\n",
        "  model = Model(inputs=x, outputs=output)\n",
        "  opt = keras.optimizers.Adam(learning_rate=1e-3)\n",
        "  model.compile(loss=\"mean_absolute_error\", optimizer=opt)  \n",
        "  \n",
        "  return model"
      ],
      "execution_count": 6,
      "outputs": []
    },
    {
      "cell_type": "markdown",
      "metadata": {
        "id": "BTgkdQvHnIlU"
      },
      "source": [
        "O modelo é criado e as camadas são mostradas."
      ]
    },
    {
      "cell_type": "code",
      "metadata": {
        "id": "5uVPa-hyL2f4"
      },
      "source": [
        "model = create_model()"
      ],
      "execution_count": 7,
      "outputs": []
    },
    {
      "cell_type": "code",
      "metadata": {
        "colab": {
          "base_uri": "https://localhost:8080/"
        },
        "id": "jXC25iHhS29o",
        "outputId": "59e4e217-bd6c-4110-a008-08e11f906199"
      },
      "source": [
        "model.summary()"
      ],
      "execution_count": 8,
      "outputs": [
        {
          "output_type": "stream",
          "text": [
            "Model: \"model\"\n",
            "_________________________________________________________________\n",
            "Layer (type)                 Output Shape              Param #   \n",
            "=================================================================\n",
            "input_1 (InputLayer)         [(None, 8)]               0         \n",
            "_________________________________________________________________\n",
            "dense (Dense)                (None, 20)                180       \n",
            "_________________________________________________________________\n",
            "dense_1 (Dense)              (None, 100)               2100      \n",
            "_________________________________________________________________\n",
            "dense_2 (Dense)              (None, 20)                2020      \n",
            "_________________________________________________________________\n",
            "dense_3 (Dense)              (None, 1)                 21        \n",
            "_________________________________________________________________\n",
            "tf.math.multiply (TFOpLambda (None, 1)                 0         \n",
            "_________________________________________________________________\n",
            "tf.__operators__.add (TFOpLa (None, 1)                 0         \n",
            "=================================================================\n",
            "Total params: 4,321\n",
            "Trainable params: 4,321\n",
            "Non-trainable params: 0\n",
            "_________________________________________________________________\n"
          ],
          "name": "stdout"
        }
      ]
    },
    {
      "cell_type": "markdown",
      "metadata": {
        "id": "OPxMGtI-nQNx"
      },
      "source": [
        "Um wraper é criado para utilizar a função de validação cruzado do Scikit-learn."
      ]
    },
    {
      "cell_type": "code",
      "metadata": {
        "id": "M1TDA1dvdVDN"
      },
      "source": [
        "from keras.wrappers.scikit_learn import KerasRegressor\n",
        "\n",
        "estimator = KerasRegressor(build_fn=create_model, epochs=300, batch_size=300, verbose=0)"
      ],
      "execution_count": 9,
      "outputs": []
    },
    {
      "cell_type": "markdown",
      "metadata": {
        "id": "1fD9RQrinbIr"
      },
      "source": [
        "O score da validação cruzada é calculado."
      ]
    },
    {
      "cell_type": "code",
      "metadata": {
        "colab": {
          "base_uri": "https://localhost:8080/"
        },
        "id": "aI892yA4jVKy",
        "outputId": "bf658003-003e-41c8-d678-967a1830a91e"
      },
      "source": [
        "print(-cross_val_score(estimator, X_train, y_train, cv=5, scoring='neg_mean_absolute_error').mean())"
      ],
      "execution_count": 10,
      "outputs": [
        {
          "output_type": "stream",
          "text": [
            "WARNING:tensorflow:5 out of the last 5 calls to <function Model.make_predict_function.<locals>.predict_function at 0x7f5d4b7fc710> triggered tf.function retracing. Tracing is expensive and the excessive number of tracings could be due to (1) creating @tf.function repeatedly in a loop, (2) passing tensors with different shapes, (3) passing Python objects instead of tensors. For (1), please define your @tf.function outside of the loop. For (2), @tf.function has experimental_relax_shapes=True option that relaxes argument shapes that can avoid unnecessary retracing. For (3), please refer to https://www.tensorflow.org/guide/function#controlling_retracing and https://www.tensorflow.org/api_docs/python/tf/function for  more details.\n",
            "4.075838752319069\n"
          ],
          "name": "stdout"
        }
      ]
    },
    {
      "cell_type": "markdown",
      "metadata": {
        "id": "wq4P4of6pzSe"
      },
      "source": [
        "O score da validação cruzada no conjunto de treino é de 4.08 MPa."
      ]
    },
    {
      "cell_type": "markdown",
      "metadata": {
        "id": "L9OHE9b4npW2"
      },
      "source": [
        "Por fim, o modelo é treinado utilizando todo o conjunto de treino."
      ]
    },
    {
      "cell_type": "code",
      "metadata": {
        "id": "LoPArfzBWPcU",
        "colab": {
          "base_uri": "https://localhost:8080/"
        },
        "outputId": "fd831a6f-ea24-4dd6-ab5d-8b5e1783ba6b"
      },
      "source": [
        "model.fit(x=X_train, y=y_train.values, epochs=300, batch_size=300)"
      ],
      "execution_count": 11,
      "outputs": [
        {
          "output_type": "stream",
          "text": [
            "Epoch 1/300\n",
            "3/3 [==============================] - 1s 8ms/step - loss: 13.0678\n",
            "Epoch 2/300\n",
            "3/3 [==============================] - 0s 6ms/step - loss: 12.3589\n",
            "Epoch 3/300\n",
            "3/3 [==============================] - 0s 3ms/step - loss: 11.7695\n",
            "Epoch 4/300\n",
            "3/3 [==============================] - 0s 4ms/step - loss: 11.4504\n",
            "Epoch 5/300\n",
            "3/3 [==============================] - 0s 3ms/step - loss: 10.9317\n",
            "Epoch 6/300\n",
            "3/3 [==============================] - 0s 5ms/step - loss: 10.5465\n",
            "Epoch 7/300\n",
            "3/3 [==============================] - 0s 5ms/step - loss: 10.2404\n",
            "Epoch 8/300\n",
            "3/3 [==============================] - 0s 5ms/step - loss: 9.9319\n",
            "Epoch 9/300\n",
            "3/3 [==============================] - 0s 4ms/step - loss: 9.5963\n",
            "Epoch 10/300\n",
            "3/3 [==============================] - 0s 4ms/step - loss: 9.3915\n",
            "Epoch 11/300\n",
            "3/3 [==============================] - 0s 5ms/step - loss: 9.4176\n",
            "Epoch 12/300\n",
            "3/3 [==============================] - 0s 4ms/step - loss: 9.1122\n",
            "Epoch 13/300\n",
            "3/3 [==============================] - 0s 5ms/step - loss: 8.9046\n",
            "Epoch 14/300\n",
            "3/3 [==============================] - 0s 4ms/step - loss: 8.8182\n",
            "Epoch 15/300\n",
            "3/3 [==============================] - 0s 7ms/step - loss: 8.8467\n",
            "Epoch 16/300\n",
            "3/3 [==============================] - 0s 5ms/step - loss: 8.5716\n",
            "Epoch 17/300\n",
            "3/3 [==============================] - 0s 4ms/step - loss: 8.1219\n",
            "Epoch 18/300\n",
            "3/3 [==============================] - 0s 6ms/step - loss: 7.9176\n",
            "Epoch 19/300\n",
            "3/3 [==============================] - 0s 4ms/step - loss: 7.9593\n",
            "Epoch 20/300\n",
            "3/3 [==============================] - 0s 8ms/step - loss: 7.7760\n",
            "Epoch 21/300\n",
            "3/3 [==============================] - 0s 5ms/step - loss: 7.5013\n",
            "Epoch 22/300\n",
            "3/3 [==============================] - 0s 6ms/step - loss: 7.2442\n",
            "Epoch 23/300\n",
            "3/3 [==============================] - 0s 3ms/step - loss: 7.1579\n",
            "Epoch 24/300\n",
            "3/3 [==============================] - 0s 7ms/step - loss: 6.9899\n",
            "Epoch 25/300\n",
            "3/3 [==============================] - 0s 6ms/step - loss: 6.9342\n",
            "Epoch 26/300\n",
            "3/3 [==============================] - 0s 5ms/step - loss: 6.6572\n",
            "Epoch 27/300\n",
            "3/3 [==============================] - 0s 5ms/step - loss: 6.5209\n",
            "Epoch 28/300\n",
            "3/3 [==============================] - 0s 6ms/step - loss: 6.5546\n",
            "Epoch 29/300\n",
            "3/3 [==============================] - 0s 5ms/step - loss: 6.3050\n",
            "Epoch 30/300\n",
            "3/3 [==============================] - 0s 4ms/step - loss: 6.2221\n",
            "Epoch 31/300\n",
            "3/3 [==============================] - 0s 5ms/step - loss: 6.0136\n",
            "Epoch 32/300\n",
            "3/3 [==============================] - 0s 3ms/step - loss: 5.8539\n",
            "Epoch 33/300\n",
            "3/3 [==============================] - 0s 3ms/step - loss: 5.7161\n",
            "Epoch 34/300\n",
            "3/3 [==============================] - 0s 3ms/step - loss: 5.6015\n",
            "Epoch 35/300\n",
            "3/3 [==============================] - 0s 4ms/step - loss: 5.4892\n",
            "Epoch 36/300\n",
            "3/3 [==============================] - 0s 4ms/step - loss: 5.5415\n",
            "Epoch 37/300\n",
            "3/3 [==============================] - 0s 4ms/step - loss: 5.5744\n",
            "Epoch 38/300\n",
            "3/3 [==============================] - 0s 4ms/step - loss: 5.4764\n",
            "Epoch 39/300\n",
            "3/3 [==============================] - 0s 4ms/step - loss: 5.2958\n",
            "Epoch 40/300\n",
            "3/3 [==============================] - 0s 8ms/step - loss: 5.2382\n",
            "Epoch 41/300\n",
            "3/3 [==============================] - 0s 5ms/step - loss: 5.1268\n",
            "Epoch 42/300\n",
            "3/3 [==============================] - 0s 6ms/step - loss: 5.0339\n",
            "Epoch 43/300\n",
            "3/3 [==============================] - 0s 4ms/step - loss: 5.1394\n",
            "Epoch 44/300\n",
            "3/3 [==============================] - 0s 5ms/step - loss: 4.8920\n",
            "Epoch 45/300\n",
            "3/3 [==============================] - 0s 4ms/step - loss: 4.7908\n",
            "Epoch 46/300\n",
            "3/3 [==============================] - 0s 4ms/step - loss: 4.7065\n",
            "Epoch 47/300\n",
            "3/3 [==============================] - 0s 6ms/step - loss: 4.7412\n",
            "Epoch 48/300\n",
            "3/3 [==============================] - 0s 5ms/step - loss: 4.6897\n",
            "Epoch 49/300\n",
            "3/3 [==============================] - 0s 5ms/step - loss: 4.7332\n",
            "Epoch 50/300\n",
            "3/3 [==============================] - 0s 5ms/step - loss: 4.6011\n",
            "Epoch 51/300\n",
            "3/3 [==============================] - 0s 5ms/step - loss: 4.5975\n",
            "Epoch 52/300\n",
            "3/3 [==============================] - 0s 5ms/step - loss: 4.5720\n",
            "Epoch 53/300\n",
            "3/3 [==============================] - 0s 4ms/step - loss: 4.3383\n",
            "Epoch 54/300\n",
            "3/3 [==============================] - 0s 4ms/step - loss: 4.4053\n",
            "Epoch 55/300\n",
            "3/3 [==============================] - 0s 4ms/step - loss: 4.2993\n",
            "Epoch 56/300\n",
            "3/3 [==============================] - 0s 4ms/step - loss: 4.2008\n",
            "Epoch 57/300\n",
            "3/3 [==============================] - 0s 4ms/step - loss: 4.0486\n",
            "Epoch 58/300\n",
            "3/3 [==============================] - 0s 4ms/step - loss: 4.1533\n",
            "Epoch 59/300\n",
            "3/3 [==============================] - 0s 4ms/step - loss: 4.1466\n",
            "Epoch 60/300\n",
            "3/3 [==============================] - 0s 4ms/step - loss: 4.0242\n",
            "Epoch 61/300\n",
            "3/3 [==============================] - 0s 6ms/step - loss: 4.0413\n",
            "Epoch 62/300\n",
            "3/3 [==============================] - 0s 4ms/step - loss: 4.0967\n",
            "Epoch 63/300\n",
            "3/3 [==============================] - 0s 11ms/step - loss: 3.9375\n",
            "Epoch 64/300\n",
            "3/3 [==============================] - 0s 5ms/step - loss: 3.8908\n",
            "Epoch 65/300\n",
            "3/3 [==============================] - 0s 5ms/step - loss: 3.8731\n",
            "Epoch 66/300\n",
            "3/3 [==============================] - 0s 4ms/step - loss: 3.9600\n",
            "Epoch 67/300\n",
            "3/3 [==============================] - 0s 5ms/step - loss: 3.8554\n",
            "Epoch 68/300\n",
            "3/3 [==============================] - 0s 5ms/step - loss: 3.9097\n",
            "Epoch 69/300\n",
            "3/3 [==============================] - 0s 7ms/step - loss: 3.8020\n",
            "Epoch 70/300\n",
            "3/3 [==============================] - 0s 5ms/step - loss: 3.7046\n",
            "Epoch 71/300\n",
            "3/3 [==============================] - 0s 4ms/step - loss: 3.6340\n",
            "Epoch 72/300\n",
            "3/3 [==============================] - 0s 4ms/step - loss: 3.6736\n",
            "Epoch 73/300\n",
            "3/3 [==============================] - 0s 5ms/step - loss: 3.6278\n",
            "Epoch 74/300\n",
            "3/3 [==============================] - 0s 4ms/step - loss: 3.5951\n",
            "Epoch 75/300\n",
            "3/3 [==============================] - 0s 5ms/step - loss: 3.5178\n",
            "Epoch 76/300\n",
            "3/3 [==============================] - 0s 4ms/step - loss: 3.6078\n",
            "Epoch 77/300\n",
            "3/3 [==============================] - 0s 7ms/step - loss: 3.4314\n",
            "Epoch 78/300\n",
            "3/3 [==============================] - 0s 5ms/step - loss: 3.5365\n",
            "Epoch 79/300\n",
            "3/3 [==============================] - 0s 7ms/step - loss: 3.4496\n",
            "Epoch 80/300\n",
            "3/3 [==============================] - 0s 3ms/step - loss: 3.4851\n",
            "Epoch 81/300\n",
            "3/3 [==============================] - 0s 3ms/step - loss: 3.5547\n",
            "Epoch 82/300\n",
            "3/3 [==============================] - 0s 4ms/step - loss: 3.4007\n",
            "Epoch 83/300\n",
            "3/3 [==============================] - 0s 4ms/step - loss: 3.3138\n",
            "Epoch 84/300\n",
            "3/3 [==============================] - 0s 3ms/step - loss: 3.4823\n",
            "Epoch 85/300\n",
            "3/3 [==============================] - 0s 4ms/step - loss: 3.4060\n",
            "Epoch 86/300\n",
            "3/3 [==============================] - 0s 5ms/step - loss: 3.2788\n",
            "Epoch 87/300\n",
            "3/3 [==============================] - 0s 4ms/step - loss: 3.3946\n",
            "Epoch 88/300\n",
            "3/3 [==============================] - 0s 9ms/step - loss: 3.1992\n",
            "Epoch 89/300\n",
            "3/3 [==============================] - 0s 4ms/step - loss: 3.3129\n",
            "Epoch 90/300\n",
            "3/3 [==============================] - 0s 3ms/step - loss: 3.1984\n",
            "Epoch 91/300\n",
            "3/3 [==============================] - 0s 5ms/step - loss: 3.1731\n",
            "Epoch 92/300\n",
            "3/3 [==============================] - 0s 4ms/step - loss: 3.1287\n",
            "Epoch 93/300\n",
            "3/3 [==============================] - 0s 6ms/step - loss: 3.2374\n",
            "Epoch 94/300\n",
            "3/3 [==============================] - 0s 6ms/step - loss: 3.1677\n",
            "Epoch 95/300\n",
            "3/3 [==============================] - 0s 3ms/step - loss: 3.1069\n",
            "Epoch 96/300\n",
            "3/3 [==============================] - 0s 6ms/step - loss: 3.3899\n",
            "Epoch 97/300\n",
            "3/3 [==============================] - 0s 3ms/step - loss: 3.2320\n",
            "Epoch 98/300\n",
            "3/3 [==============================] - 0s 8ms/step - loss: 3.1388\n",
            "Epoch 99/300\n",
            "3/3 [==============================] - 0s 6ms/step - loss: 3.0814\n",
            "Epoch 100/300\n",
            "3/3 [==============================] - 0s 8ms/step - loss: 3.1803\n",
            "Epoch 101/300\n",
            "3/3 [==============================] - 0s 6ms/step - loss: 3.1019\n",
            "Epoch 102/300\n",
            "3/3 [==============================] - 0s 6ms/step - loss: 3.0957\n",
            "Epoch 103/300\n",
            "3/3 [==============================] - 0s 4ms/step - loss: 3.0721\n",
            "Epoch 104/300\n",
            "3/3 [==============================] - 0s 4ms/step - loss: 3.0754\n",
            "Epoch 105/300\n",
            "3/3 [==============================] - 0s 5ms/step - loss: 2.9981\n",
            "Epoch 106/300\n",
            "3/3 [==============================] - 0s 5ms/step - loss: 2.9634\n",
            "Epoch 107/300\n",
            "3/3 [==============================] - 0s 5ms/step - loss: 2.8686\n",
            "Epoch 108/300\n",
            "3/3 [==============================] - 0s 6ms/step - loss: 2.8122\n",
            "Epoch 109/300\n",
            "3/3 [==============================] - 0s 4ms/step - loss: 2.8525\n",
            "Epoch 110/300\n",
            "3/3 [==============================] - 0s 4ms/step - loss: 2.9299\n",
            "Epoch 111/300\n",
            "3/3 [==============================] - 0s 10ms/step - loss: 2.7503\n",
            "Epoch 112/300\n",
            "3/3 [==============================] - 0s 6ms/step - loss: 2.8197\n",
            "Epoch 113/300\n",
            "3/3 [==============================] - 0s 7ms/step - loss: 2.8883\n",
            "Epoch 114/300\n",
            "3/3 [==============================] - 0s 7ms/step - loss: 2.9060\n",
            "Epoch 115/300\n",
            "3/3 [==============================] - 0s 4ms/step - loss: 2.9429\n",
            "Epoch 116/300\n",
            "3/3 [==============================] - 0s 5ms/step - loss: 2.8969\n",
            "Epoch 117/300\n",
            "3/3 [==============================] - 0s 6ms/step - loss: 2.8524\n",
            "Epoch 118/300\n",
            "3/3 [==============================] - 0s 5ms/step - loss: 2.8659\n",
            "Epoch 119/300\n",
            "3/3 [==============================] - 0s 9ms/step - loss: 2.7554\n",
            "Epoch 120/300\n",
            "3/3 [==============================] - 0s 7ms/step - loss: 2.7084\n",
            "Epoch 121/300\n",
            "3/3 [==============================] - 0s 5ms/step - loss: 2.7586\n",
            "Epoch 122/300\n",
            "3/3 [==============================] - 0s 7ms/step - loss: 2.8650\n",
            "Epoch 123/300\n",
            "3/3 [==============================] - 0s 5ms/step - loss: 2.8447\n",
            "Epoch 124/300\n",
            "3/3 [==============================] - 0s 5ms/step - loss: 2.7594\n",
            "Epoch 125/300\n",
            "3/3 [==============================] - 0s 5ms/step - loss: 2.7502\n",
            "Epoch 126/300\n",
            "3/3 [==============================] - 0s 3ms/step - loss: 2.6893\n",
            "Epoch 127/300\n",
            "3/3 [==============================] - 0s 5ms/step - loss: 2.6585\n",
            "Epoch 128/300\n",
            "3/3 [==============================] - 0s 4ms/step - loss: 2.7050\n",
            "Epoch 129/300\n",
            "3/3 [==============================] - 0s 9ms/step - loss: 2.7045\n",
            "Epoch 130/300\n",
            "3/3 [==============================] - 0s 5ms/step - loss: 2.6622\n",
            "Epoch 131/300\n",
            "3/3 [==============================] - 0s 4ms/step - loss: 2.6670\n",
            "Epoch 132/300\n",
            "3/3 [==============================] - 0s 5ms/step - loss: 2.6024\n",
            "Epoch 133/300\n",
            "3/3 [==============================] - 0s 5ms/step - loss: 2.5943\n",
            "Epoch 134/300\n",
            "3/3 [==============================] - 0s 6ms/step - loss: 2.6538\n",
            "Epoch 135/300\n",
            "3/3 [==============================] - 0s 5ms/step - loss: 2.6637\n",
            "Epoch 136/300\n",
            "3/3 [==============================] - 0s 5ms/step - loss: 2.6373\n",
            "Epoch 137/300\n",
            "3/3 [==============================] - 0s 4ms/step - loss: 2.6858\n",
            "Epoch 138/300\n",
            "3/3 [==============================] - 0s 4ms/step - loss: 2.5966\n",
            "Epoch 139/300\n",
            "3/3 [==============================] - 0s 6ms/step - loss: 2.6709\n",
            "Epoch 140/300\n",
            "3/3 [==============================] - 0s 5ms/step - loss: 2.6183\n",
            "Epoch 141/300\n",
            "3/3 [==============================] - 0s 6ms/step - loss: 2.6100\n",
            "Epoch 142/300\n",
            "3/3 [==============================] - 0s 6ms/step - loss: 2.5553\n",
            "Epoch 143/300\n",
            "3/3 [==============================] - 0s 5ms/step - loss: 2.5414\n",
            "Epoch 144/300\n",
            "3/3 [==============================] - 0s 9ms/step - loss: 2.5682\n",
            "Epoch 145/300\n",
            "3/3 [==============================] - 0s 6ms/step - loss: 2.5174\n",
            "Epoch 146/300\n",
            "3/3 [==============================] - 0s 6ms/step - loss: 2.5529\n",
            "Epoch 147/300\n",
            "3/3 [==============================] - 0s 4ms/step - loss: 2.5442\n",
            "Epoch 148/300\n",
            "3/3 [==============================] - 0s 4ms/step - loss: 2.4639\n",
            "Epoch 149/300\n",
            "3/3 [==============================] - 0s 5ms/step - loss: 2.4506\n",
            "Epoch 150/300\n",
            "3/3 [==============================] - 0s 8ms/step - loss: 2.4646\n",
            "Epoch 151/300\n",
            "3/3 [==============================] - 0s 4ms/step - loss: 2.4134\n",
            "Epoch 152/300\n",
            "3/3 [==============================] - 0s 5ms/step - loss: 2.4788\n",
            "Epoch 153/300\n",
            "3/3 [==============================] - 0s 5ms/step - loss: 2.5309\n",
            "Epoch 154/300\n",
            "3/3 [==============================] - 0s 5ms/step - loss: 2.4614\n",
            "Epoch 155/300\n",
            "3/3 [==============================] - 0s 5ms/step - loss: 2.4905\n",
            "Epoch 156/300\n",
            "3/3 [==============================] - 0s 6ms/step - loss: 2.3991\n",
            "Epoch 157/300\n",
            "3/3 [==============================] - 0s 5ms/step - loss: 2.4559\n",
            "Epoch 158/300\n",
            "3/3 [==============================] - 0s 8ms/step - loss: 2.4049\n",
            "Epoch 159/300\n",
            "3/3 [==============================] - 0s 4ms/step - loss: 2.3743\n",
            "Epoch 160/300\n",
            "3/3 [==============================] - 0s 5ms/step - loss: 2.4227\n",
            "Epoch 161/300\n",
            "3/3 [==============================] - 0s 7ms/step - loss: 2.4768\n",
            "Epoch 162/300\n",
            "3/3 [==============================] - 0s 5ms/step - loss: 2.4126\n",
            "Epoch 163/300\n",
            "3/3 [==============================] - 0s 6ms/step - loss: 2.4278\n",
            "Epoch 164/300\n",
            "3/3 [==============================] - 0s 5ms/step - loss: 2.5466\n",
            "Epoch 165/300\n",
            "3/3 [==============================] - 0s 7ms/step - loss: 2.4127\n",
            "Epoch 166/300\n",
            "3/3 [==============================] - 0s 5ms/step - loss: 2.3923\n",
            "Epoch 167/300\n",
            "3/3 [==============================] - 0s 6ms/step - loss: 2.3465\n",
            "Epoch 168/300\n",
            "3/3 [==============================] - 0s 5ms/step - loss: 2.3937\n",
            "Epoch 169/300\n",
            "3/3 [==============================] - 0s 6ms/step - loss: 2.3169\n",
            "Epoch 170/300\n",
            "3/3 [==============================] - 0s 5ms/step - loss: 2.3969\n",
            "Epoch 171/300\n",
            "3/3 [==============================] - 0s 9ms/step - loss: 2.4319\n",
            "Epoch 172/300\n",
            "3/3 [==============================] - 0s 6ms/step - loss: 2.4004\n",
            "Epoch 173/300\n",
            "3/3 [==============================] - 0s 5ms/step - loss: 2.3470\n",
            "Epoch 174/300\n",
            "3/3 [==============================] - 0s 8ms/step - loss: 2.3041\n",
            "Epoch 175/300\n",
            "3/3 [==============================] - 0s 6ms/step - loss: 2.3253\n",
            "Epoch 176/300\n",
            "3/3 [==============================] - 0s 5ms/step - loss: 2.3492\n",
            "Epoch 177/300\n",
            "3/3 [==============================] - 0s 5ms/step - loss: 2.3213\n",
            "Epoch 178/300\n",
            "3/3 [==============================] - 0s 4ms/step - loss: 2.3783\n",
            "Epoch 179/300\n",
            "3/3 [==============================] - 0s 6ms/step - loss: 2.3139\n",
            "Epoch 180/300\n",
            "3/3 [==============================] - 0s 6ms/step - loss: 2.3099\n",
            "Epoch 181/300\n",
            "3/3 [==============================] - 0s 5ms/step - loss: 2.3086\n",
            "Epoch 182/300\n",
            "3/3 [==============================] - 0s 5ms/step - loss: 2.2976\n",
            "Epoch 183/300\n",
            "3/3 [==============================] - 0s 6ms/step - loss: 2.2649\n",
            "Epoch 184/300\n",
            "3/3 [==============================] - 0s 5ms/step - loss: 2.1898\n",
            "Epoch 185/300\n",
            "3/3 [==============================] - 0s 6ms/step - loss: 2.2692\n",
            "Epoch 186/300\n",
            "3/3 [==============================] - 0s 3ms/step - loss: 2.2780\n",
            "Epoch 187/300\n",
            "3/3 [==============================] - 0s 6ms/step - loss: 2.3409\n",
            "Epoch 188/300\n",
            "3/3 [==============================] - 0s 4ms/step - loss: 2.2484\n",
            "Epoch 189/300\n",
            "3/3 [==============================] - 0s 4ms/step - loss: 2.2649\n",
            "Epoch 190/300\n",
            "3/3 [==============================] - 0s 5ms/step - loss: 2.3110\n",
            "Epoch 191/300\n",
            "3/3 [==============================] - 0s 7ms/step - loss: 2.3460\n",
            "Epoch 192/300\n",
            "3/3 [==============================] - 0s 8ms/step - loss: 2.3201\n",
            "Epoch 193/300\n",
            "3/3 [==============================] - 0s 6ms/step - loss: 2.2863\n",
            "Epoch 194/300\n",
            "3/3 [==============================] - 0s 6ms/step - loss: 2.2222\n",
            "Epoch 195/300\n",
            "3/3 [==============================] - 0s 7ms/step - loss: 2.2940\n",
            "Epoch 196/300\n",
            "3/3 [==============================] - 0s 5ms/step - loss: 2.2871\n",
            "Epoch 197/300\n",
            "3/3 [==============================] - 0s 5ms/step - loss: 2.2805\n",
            "Epoch 198/300\n",
            "3/3 [==============================] - 0s 6ms/step - loss: 2.3587\n",
            "Epoch 199/300\n",
            "3/3 [==============================] - 0s 6ms/step - loss: 2.1920\n",
            "Epoch 200/300\n",
            "3/3 [==============================] - 0s 4ms/step - loss: 2.3573\n",
            "Epoch 201/300\n",
            "3/3 [==============================] - 0s 4ms/step - loss: 2.3062\n",
            "Epoch 202/300\n",
            "3/3 [==============================] - 0s 6ms/step - loss: 2.3282\n",
            "Epoch 203/300\n",
            "3/3 [==============================] - 0s 7ms/step - loss: 2.2466\n",
            "Epoch 204/300\n",
            "3/3 [==============================] - 0s 7ms/step - loss: 2.2842\n",
            "Epoch 205/300\n",
            "3/3 [==============================] - 0s 8ms/step - loss: 2.2419\n",
            "Epoch 206/300\n",
            "3/3 [==============================] - 0s 11ms/step - loss: 2.2574\n",
            "Epoch 207/300\n",
            "3/3 [==============================] - 0s 6ms/step - loss: 2.1632\n",
            "Epoch 208/300\n",
            "3/3 [==============================] - 0s 9ms/step - loss: 2.1888\n",
            "Epoch 209/300\n",
            "3/3 [==============================] - 0s 5ms/step - loss: 2.1692\n",
            "Epoch 210/300\n",
            "3/3 [==============================] - 0s 5ms/step - loss: 2.1626\n",
            "Epoch 211/300\n",
            "3/3 [==============================] - 0s 5ms/step - loss: 2.1501\n",
            "Epoch 212/300\n",
            "3/3 [==============================] - 0s 4ms/step - loss: 2.1647\n",
            "Epoch 213/300\n",
            "3/3 [==============================] - 0s 4ms/step - loss: 2.1637\n",
            "Epoch 214/300\n",
            "3/3 [==============================] - 0s 5ms/step - loss: 2.1203\n",
            "Epoch 215/300\n",
            "3/3 [==============================] - 0s 4ms/step - loss: 2.1552\n",
            "Epoch 216/300\n",
            "3/3 [==============================] - 0s 8ms/step - loss: 2.0658\n",
            "Epoch 217/300\n",
            "3/3 [==============================] - 0s 5ms/step - loss: 2.1176\n",
            "Epoch 218/300\n",
            "3/3 [==============================] - 0s 7ms/step - loss: 2.1204\n",
            "Epoch 219/300\n",
            "3/3 [==============================] - 0s 5ms/step - loss: 2.2285\n",
            "Epoch 220/300\n",
            "3/3 [==============================] - 0s 4ms/step - loss: 2.1378\n",
            "Epoch 221/300\n",
            "3/3 [==============================] - 0s 6ms/step - loss: 2.0813\n",
            "Epoch 222/300\n",
            "3/3 [==============================] - 0s 11ms/step - loss: 2.1350\n",
            "Epoch 223/300\n",
            "3/3 [==============================] - 0s 7ms/step - loss: 2.0436\n",
            "Epoch 224/300\n",
            "3/3 [==============================] - 0s 7ms/step - loss: 2.1569\n",
            "Epoch 225/300\n",
            "3/3 [==============================] - 0s 7ms/step - loss: 2.0411\n",
            "Epoch 226/300\n",
            "3/3 [==============================] - 0s 5ms/step - loss: 2.0955\n",
            "Epoch 227/300\n",
            "3/3 [==============================] - 0s 5ms/step - loss: 2.1530\n",
            "Epoch 228/300\n",
            "3/3 [==============================] - 0s 4ms/step - loss: 2.1007\n",
            "Epoch 229/300\n",
            "3/3 [==============================] - 0s 6ms/step - loss: 2.0824\n",
            "Epoch 230/300\n",
            "3/3 [==============================] - 0s 6ms/step - loss: 2.1998\n",
            "Epoch 231/300\n",
            "3/3 [==============================] - 0s 4ms/step - loss: 2.1093\n",
            "Epoch 232/300\n",
            "3/3 [==============================] - 0s 4ms/step - loss: 2.1621\n",
            "Epoch 233/300\n",
            "3/3 [==============================] - 0s 4ms/step - loss: 1.9906\n",
            "Epoch 234/300\n",
            "3/3 [==============================] - 0s 6ms/step - loss: 2.0186\n",
            "Epoch 235/300\n",
            "3/3 [==============================] - 0s 4ms/step - loss: 2.0769\n",
            "Epoch 236/300\n",
            "3/3 [==============================] - 0s 7ms/step - loss: 1.9972\n",
            "Epoch 237/300\n",
            "3/3 [==============================] - 0s 5ms/step - loss: 2.1243\n",
            "Epoch 238/300\n",
            "3/3 [==============================] - 0s 5ms/step - loss: 2.0725\n",
            "Epoch 239/300\n",
            "3/3 [==============================] - 0s 3ms/step - loss: 2.0143\n",
            "Epoch 240/300\n",
            "3/3 [==============================] - 0s 4ms/step - loss: 2.2119\n",
            "Epoch 241/300\n",
            "3/3 [==============================] - 0s 6ms/step - loss: 2.0125\n",
            "Epoch 242/300\n",
            "3/3 [==============================] - 0s 7ms/step - loss: 2.0594\n",
            "Epoch 243/300\n",
            "3/3 [==============================] - 0s 5ms/step - loss: 2.0224\n",
            "Epoch 244/300\n",
            "3/3 [==============================] - 0s 6ms/step - loss: 2.0041\n",
            "Epoch 245/300\n",
            "3/3 [==============================] - 0s 6ms/step - loss: 1.9769\n",
            "Epoch 246/300\n",
            "3/3 [==============================] - 0s 7ms/step - loss: 1.9534\n",
            "Epoch 247/300\n",
            "3/3 [==============================] - 0s 7ms/step - loss: 1.9638\n",
            "Epoch 248/300\n",
            "3/3 [==============================] - 0s 7ms/step - loss: 2.1759\n",
            "Epoch 249/300\n",
            "3/3 [==============================] - 0s 5ms/step - loss: 2.0925\n",
            "Epoch 250/300\n",
            "3/3 [==============================] - 0s 3ms/step - loss: 2.1773\n",
            "Epoch 251/300\n",
            "3/3 [==============================] - 0s 4ms/step - loss: 2.0704\n",
            "Epoch 252/300\n",
            "3/3 [==============================] - 0s 6ms/step - loss: 2.0607\n",
            "Epoch 253/300\n",
            "3/3 [==============================] - 0s 4ms/step - loss: 2.0396\n",
            "Epoch 254/300\n",
            "3/3 [==============================] - 0s 6ms/step - loss: 1.9907\n",
            "Epoch 255/300\n",
            "3/3 [==============================] - 0s 4ms/step - loss: 1.9852\n",
            "Epoch 256/300\n",
            "3/3 [==============================] - 0s 4ms/step - loss: 2.0055\n",
            "Epoch 257/300\n",
            "3/3 [==============================] - 0s 5ms/step - loss: 1.9374\n",
            "Epoch 258/300\n",
            "3/3 [==============================] - 0s 6ms/step - loss: 2.0446\n",
            "Epoch 259/300\n",
            "3/3 [==============================] - 0s 3ms/step - loss: 1.9537\n",
            "Epoch 260/300\n",
            "3/3 [==============================] - 0s 5ms/step - loss: 2.0097\n",
            "Epoch 261/300\n",
            "3/3 [==============================] - 0s 4ms/step - loss: 2.0104\n",
            "Epoch 262/300\n",
            "3/3 [==============================] - 0s 4ms/step - loss: 2.0684\n",
            "Epoch 263/300\n",
            "3/3 [==============================] - 0s 4ms/step - loss: 2.0035\n",
            "Epoch 264/300\n",
            "3/3 [==============================] - 0s 5ms/step - loss: 1.9062\n",
            "Epoch 265/300\n",
            "3/3 [==============================] - 0s 4ms/step - loss: 2.0256\n",
            "Epoch 266/300\n",
            "3/3 [==============================] - 0s 6ms/step - loss: 1.9907\n",
            "Epoch 267/300\n",
            "3/3 [==============================] - 0s 6ms/step - loss: 1.9669\n",
            "Epoch 268/300\n",
            "3/3 [==============================] - 0s 6ms/step - loss: 1.9967\n",
            "Epoch 269/300\n",
            "3/3 [==============================] - 0s 5ms/step - loss: 1.8749\n",
            "Epoch 270/300\n",
            "3/3 [==============================] - 0s 5ms/step - loss: 1.8846\n",
            "Epoch 271/300\n",
            "3/3 [==============================] - 0s 3ms/step - loss: 1.9608\n",
            "Epoch 272/300\n",
            "3/3 [==============================] - 0s 5ms/step - loss: 1.8159\n",
            "Epoch 273/300\n",
            "3/3 [==============================] - 0s 5ms/step - loss: 1.8787\n",
            "Epoch 274/300\n",
            "3/3 [==============================] - 0s 11ms/step - loss: 1.8671\n",
            "Epoch 275/300\n",
            "3/3 [==============================] - 0s 6ms/step - loss: 1.9226\n",
            "Epoch 276/300\n",
            "3/3 [==============================] - 0s 6ms/step - loss: 2.0416\n",
            "Epoch 277/300\n",
            "3/3 [==============================] - 0s 6ms/step - loss: 1.9772\n",
            "Epoch 278/300\n",
            "3/3 [==============================] - 0s 5ms/step - loss: 1.9869\n",
            "Epoch 279/300\n",
            "3/3 [==============================] - 0s 6ms/step - loss: 1.9468\n",
            "Epoch 280/300\n",
            "3/3 [==============================] - 0s 8ms/step - loss: 1.9844\n",
            "Epoch 281/300\n",
            "3/3 [==============================] - 0s 5ms/step - loss: 1.9181\n",
            "Epoch 282/300\n",
            "3/3 [==============================] - 0s 5ms/step - loss: 1.9181\n",
            "Epoch 283/300\n",
            "3/3 [==============================] - 0s 5ms/step - loss: 2.0166\n",
            "Epoch 284/300\n",
            "3/3 [==============================] - 0s 4ms/step - loss: 1.9712\n",
            "Epoch 285/300\n",
            "3/3 [==============================] - 0s 5ms/step - loss: 1.9028\n",
            "Epoch 286/300\n",
            "3/3 [==============================] - 0s 5ms/step - loss: 1.9395\n",
            "Epoch 287/300\n",
            "3/3 [==============================] - 0s 4ms/step - loss: 1.9845\n",
            "Epoch 288/300\n",
            "3/3 [==============================] - 0s 5ms/step - loss: 1.8723\n",
            "Epoch 289/300\n",
            "3/3 [==============================] - 0s 3ms/step - loss: 1.8071\n",
            "Epoch 290/300\n",
            "3/3 [==============================] - 0s 4ms/step - loss: 1.8252\n",
            "Epoch 291/300\n",
            "3/3 [==============================] - 0s 7ms/step - loss: 1.8454\n",
            "Epoch 292/300\n",
            "3/3 [==============================] - 0s 8ms/step - loss: 1.9126\n",
            "Epoch 293/300\n",
            "3/3 [==============================] - 0s 6ms/step - loss: 1.8903\n",
            "Epoch 294/300\n",
            "3/3 [==============================] - 0s 6ms/step - loss: 1.9082\n",
            "Epoch 295/300\n",
            "3/3 [==============================] - 0s 6ms/step - loss: 1.8252\n",
            "Epoch 296/300\n",
            "3/3 [==============================] - 0s 6ms/step - loss: 1.8035\n",
            "Epoch 297/300\n",
            "3/3 [==============================] - 0s 6ms/step - loss: 1.8343\n",
            "Epoch 298/300\n",
            "3/3 [==============================] - 0s 5ms/step - loss: 1.8999\n",
            "Epoch 299/300\n",
            "3/3 [==============================] - 0s 4ms/step - loss: 1.9006\n",
            "Epoch 300/300\n",
            "3/3 [==============================] - 0s 6ms/step - loss: 1.8484\n"
          ],
          "name": "stdout"
        },
        {
          "output_type": "execute_result",
          "data": {
            "text/plain": [
              "<keras.callbacks.History at 0x7f5d4c5f0f90>"
            ]
          },
          "metadata": {
            "tags": []
          },
          "execution_count": 11
        }
      ]
    },
    {
      "cell_type": "markdown",
      "metadata": {
        "id": "ISp-IQpjnw_L"
      },
      "source": [
        "O erro médio absoluto final é então calculado."
      ]
    },
    {
      "cell_type": "code",
      "metadata": {
        "id": "hdjAeKkWcgKC",
        "colab": {
          "base_uri": "https://localhost:8080/"
        },
        "outputId": "8321b204-4fcd-482e-be19-e5363288f0e8"
      },
      "source": [
        "mean_absolute_error(y_test, model(X_test))"
      ],
      "execution_count": 12,
      "outputs": [
        {
          "output_type": "execute_result",
          "data": {
            "text/plain": [
              "3.8446156233084365"
            ]
          },
          "metadata": {
            "tags": []
          },
          "execution_count": 12
        }
      ]
    },
    {
      "cell_type": "markdown",
      "metadata": {
        "id": "38jCHSwDodmZ"
      },
      "source": [
        "O modelo prevê a resistência à compressão do concreto com um erro médio absoluto de 3.845 MPa para o conunto de teste."
      ]
    },
    {
      "cell_type": "code",
      "metadata": {
        "id": "tHXhbkauNB8j"
      },
      "source": [
        ""
      ],
      "execution_count": null,
      "outputs": []
    }
  ]
}