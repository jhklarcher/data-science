{
  "nbformat": 4,
  "nbformat_minor": 0,
  "metadata": {
    "kernelspec": {
      "display_name": "Python 3",
      "language": "python",
      "name": "python3"
    },
    "language_info": {
      "codemirror_mode": {
        "name": "ipython",
        "version": 3
      },
      "file_extension": ".py",
      "mimetype": "text/x-python",
      "name": "python",
      "nbconvert_exporter": "python",
      "pygments_lexer": "ipython3",
      "version": "3.7.4-final"
    },
    "colab": {
      "name": "05_prophet.ipynb",
      "provenance": [],
      "collapsed_sections": []
    }
  },
  "cells": [
    {
      "cell_type": "markdown",
      "metadata": {
        "id": "1E5_CM0m8mRB",
        "colab_type": "text"
      },
      "source": [
        "Dataset: https://www.kaggle.com/volpatto/temperature-timeseries-for-some-brazilian-cities"
      ]
    },
    {
      "cell_type": "markdown",
      "metadata": {
        "id": "Ds85s9vlWaCJ",
        "colab_type": "text"
      },
      "source": [
        "# Preparando os dados"
      ]
    },
    {
      "cell_type": "code",
      "metadata": {
        "id": "vM_ShsBm8mRF",
        "colab_type": "code",
        "colab": {}
      },
      "source": [
        "import pandas as pd\n",
        "\n",
        "arquivo = 'https://raw.githubusercontent.com/jhklarcher/data-science/master/datasets/station_curitiba.csv' # Nome e local do arquivo\n",
        "df = pd.read_csv(arquivo)"
      ],
      "execution_count": 0,
      "outputs": []
    },
    {
      "cell_type": "code",
      "metadata": {
        "id": "zXY-1CH_8mRc",
        "colab_type": "code",
        "outputId": "8184b6f9-c7a6-419e-c77a-e0aa8fe41cc7",
        "colab": {
          "base_uri": "https://localhost:8080/",
          "height": 34
        }
      },
      "source": [
        "df.shape"
      ],
      "execution_count": 2,
      "outputs": [
        {
          "output_type": "execute_result",
          "data": {
            "text/plain": [
              "(59, 18)"
            ]
          },
          "metadata": {
            "tags": []
          },
          "execution_count": 2
        }
      ]
    },
    {
      "cell_type": "code",
      "metadata": {
        "id": "i3V0pB2h8mRs",
        "colab_type": "code",
        "outputId": "4064f5ea-13fd-4e30-fe3a-e98ebf6dd60c",
        "colab": {
          "base_uri": "https://localhost:8080/",
          "height": 204
        }
      },
      "source": [
        "df.head()"
      ],
      "execution_count": 3,
      "outputs": [
        {
          "output_type": "execute_result",
          "data": {
            "text/html": [
              "<div>\n",
              "<style scoped>\n",
              "    .dataframe tbody tr th:only-of-type {\n",
              "        vertical-align: middle;\n",
              "    }\n",
              "\n",
              "    .dataframe tbody tr th {\n",
              "        vertical-align: top;\n",
              "    }\n",
              "\n",
              "    .dataframe thead th {\n",
              "        text-align: right;\n",
              "    }\n",
              "</style>\n",
              "<table border=\"1\" class=\"dataframe\">\n",
              "  <thead>\n",
              "    <tr style=\"text-align: right;\">\n",
              "      <th></th>\n",
              "      <th>YEAR</th>\n",
              "      <th>JAN</th>\n",
              "      <th>FEB</th>\n",
              "      <th>MAR</th>\n",
              "      <th>APR</th>\n",
              "      <th>MAY</th>\n",
              "      <th>JUN</th>\n",
              "      <th>JUL</th>\n",
              "      <th>AUG</th>\n",
              "      <th>SEP</th>\n",
              "      <th>OCT</th>\n",
              "      <th>NOV</th>\n",
              "      <th>DEC</th>\n",
              "      <th>D-J-F</th>\n",
              "      <th>M-A-M</th>\n",
              "      <th>J-J-A</th>\n",
              "      <th>S-O-N</th>\n",
              "      <th>metANN</th>\n",
              "    </tr>\n",
              "  </thead>\n",
              "  <tbody>\n",
              "    <tr>\n",
              "      <th>0</th>\n",
              "      <td>1961</td>\n",
              "      <td>21.80</td>\n",
              "      <td>21.84</td>\n",
              "      <td>20.51</td>\n",
              "      <td>19.14</td>\n",
              "      <td>16.05</td>\n",
              "      <td>14.87</td>\n",
              "      <td>15.43</td>\n",
              "      <td>17.17</td>\n",
              "      <td>18.56</td>\n",
              "      <td>19.53</td>\n",
              "      <td>20.56</td>\n",
              "      <td>20.81</td>\n",
              "      <td>21.52</td>\n",
              "      <td>18.57</td>\n",
              "      <td>15.82</td>\n",
              "      <td>19.55</td>\n",
              "      <td>18.86</td>\n",
              "    </tr>\n",
              "    <tr>\n",
              "      <th>1</th>\n",
              "      <td>1962</td>\n",
              "      <td>20.47</td>\n",
              "      <td>20.29</td>\n",
              "      <td>20.78</td>\n",
              "      <td>17.42</td>\n",
              "      <td>14.49</td>\n",
              "      <td>12.19</td>\n",
              "      <td>12.29</td>\n",
              "      <td>14.85</td>\n",
              "      <td>16.46</td>\n",
              "      <td>15.48</td>\n",
              "      <td>19.07</td>\n",
              "      <td>20.01</td>\n",
              "      <td>20.52</td>\n",
              "      <td>17.56</td>\n",
              "      <td>13.11</td>\n",
              "      <td>17.00</td>\n",
              "      <td>17.05</td>\n",
              "    </tr>\n",
              "    <tr>\n",
              "      <th>2</th>\n",
              "      <td>1963</td>\n",
              "      <td>22.57</td>\n",
              "      <td>21.41</td>\n",
              "      <td>22.06</td>\n",
              "      <td>18.82</td>\n",
              "      <td>15.71</td>\n",
              "      <td>13.76</td>\n",
              "      <td>15.62</td>\n",
              "      <td>16.20</td>\n",
              "      <td>19.65</td>\n",
              "      <td>18.50</td>\n",
              "      <td>20.37</td>\n",
              "      <td>19.79</td>\n",
              "      <td>21.33</td>\n",
              "      <td>18.86</td>\n",
              "      <td>15.19</td>\n",
              "      <td>19.51</td>\n",
              "      <td>18.72</td>\n",
              "    </tr>\n",
              "    <tr>\n",
              "      <th>3</th>\n",
              "      <td>1964</td>\n",
              "      <td>21.33</td>\n",
              "      <td>21.57</td>\n",
              "      <td>20.29</td>\n",
              "      <td>19.26</td>\n",
              "      <td>15.46</td>\n",
              "      <td>13.03</td>\n",
              "      <td>12.08</td>\n",
              "      <td>14.97</td>\n",
              "      <td>16.93</td>\n",
              "      <td>17.28</td>\n",
              "      <td>17.76</td>\n",
              "      <td>19.47</td>\n",
              "      <td>20.90</td>\n",
              "      <td>18.34</td>\n",
              "      <td>13.36</td>\n",
              "      <td>17.32</td>\n",
              "      <td>17.48</td>\n",
              "    </tr>\n",
              "    <tr>\n",
              "      <th>4</th>\n",
              "      <td>1965</td>\n",
              "      <td>20.31</td>\n",
              "      <td>21.99</td>\n",
              "      <td>19.11</td>\n",
              "      <td>18.61</td>\n",
              "      <td>15.12</td>\n",
              "      <td>16.17</td>\n",
              "      <td>13.94</td>\n",
              "      <td>16.55</td>\n",
              "      <td>17.66</td>\n",
              "      <td>18.23</td>\n",
              "      <td>19.84</td>\n",
              "      <td>20.92</td>\n",
              "      <td>20.59</td>\n",
              "      <td>17.61</td>\n",
              "      <td>15.55</td>\n",
              "      <td>18.58</td>\n",
              "      <td>18.08</td>\n",
              "    </tr>\n",
              "  </tbody>\n",
              "</table>\n",
              "</div>"
            ],
            "text/plain": [
              "   YEAR    JAN    FEB    MAR    APR  ...  D-J-F  M-A-M  J-J-A  S-O-N  metANN\n",
              "0  1961  21.80  21.84  20.51  19.14  ...  21.52  18.57  15.82  19.55   18.86\n",
              "1  1962  20.47  20.29  20.78  17.42  ...  20.52  17.56  13.11  17.00   17.05\n",
              "2  1963  22.57  21.41  22.06  18.82  ...  21.33  18.86  15.19  19.51   18.72\n",
              "3  1964  21.33  21.57  20.29  19.26  ...  20.90  18.34  13.36  17.32   17.48\n",
              "4  1965  20.31  21.99  19.11  18.61  ...  20.59  17.61  15.55  18.58   18.08\n",
              "\n",
              "[5 rows x 18 columns]"
            ]
          },
          "metadata": {
            "tags": []
          },
          "execution_count": 3
        }
      ]
    },
    {
      "cell_type": "code",
      "metadata": {
        "id": "X5Er2E408mR2",
        "colab_type": "code",
        "colab": {}
      },
      "source": [
        "df = df.iloc[:, :-5]"
      ],
      "execution_count": 0,
      "outputs": []
    },
    {
      "cell_type": "code",
      "metadata": {
        "id": "aH7hsnVfkpsI",
        "colab_type": "code",
        "colab": {}
      },
      "source": [
        "df = pd.melt(df, id_vars=['YEAR'])"
      ],
      "execution_count": 0,
      "outputs": []
    },
    {
      "cell_type": "code",
      "metadata": {
        "id": "GwhBNLNlnA_y",
        "colab_type": "code",
        "colab": {
          "base_uri": "https://localhost:8080/",
          "height": 204
        },
        "outputId": "5eea8a62-d1fb-4939-ef18-be9c858644b4"
      },
      "source": [
        "df.head()"
      ],
      "execution_count": 6,
      "outputs": [
        {
          "output_type": "execute_result",
          "data": {
            "text/html": [
              "<div>\n",
              "<style scoped>\n",
              "    .dataframe tbody tr th:only-of-type {\n",
              "        vertical-align: middle;\n",
              "    }\n",
              "\n",
              "    .dataframe tbody tr th {\n",
              "        vertical-align: top;\n",
              "    }\n",
              "\n",
              "    .dataframe thead th {\n",
              "        text-align: right;\n",
              "    }\n",
              "</style>\n",
              "<table border=\"1\" class=\"dataframe\">\n",
              "  <thead>\n",
              "    <tr style=\"text-align: right;\">\n",
              "      <th></th>\n",
              "      <th>YEAR</th>\n",
              "      <th>variable</th>\n",
              "      <th>value</th>\n",
              "    </tr>\n",
              "  </thead>\n",
              "  <tbody>\n",
              "    <tr>\n",
              "      <th>0</th>\n",
              "      <td>1961</td>\n",
              "      <td>JAN</td>\n",
              "      <td>21.80</td>\n",
              "    </tr>\n",
              "    <tr>\n",
              "      <th>1</th>\n",
              "      <td>1962</td>\n",
              "      <td>JAN</td>\n",
              "      <td>20.47</td>\n",
              "    </tr>\n",
              "    <tr>\n",
              "      <th>2</th>\n",
              "      <td>1963</td>\n",
              "      <td>JAN</td>\n",
              "      <td>22.57</td>\n",
              "    </tr>\n",
              "    <tr>\n",
              "      <th>3</th>\n",
              "      <td>1964</td>\n",
              "      <td>JAN</td>\n",
              "      <td>21.33</td>\n",
              "    </tr>\n",
              "    <tr>\n",
              "      <th>4</th>\n",
              "      <td>1965</td>\n",
              "      <td>JAN</td>\n",
              "      <td>20.31</td>\n",
              "    </tr>\n",
              "  </tbody>\n",
              "</table>\n",
              "</div>"
            ],
            "text/plain": [
              "   YEAR variable  value\n",
              "0  1961      JAN  21.80\n",
              "1  1962      JAN  20.47\n",
              "2  1963      JAN  22.57\n",
              "3  1964      JAN  21.33\n",
              "4  1965      JAN  20.31"
            ]
          },
          "metadata": {
            "tags": []
          },
          "execution_count": 6
        }
      ]
    },
    {
      "cell_type": "code",
      "metadata": {
        "id": "_54L1eydl5-S",
        "colab_type": "code",
        "colab": {}
      },
      "source": [
        "df['date'] = df['YEAR'].astype(str)+'/'+ df['variable']"
      ],
      "execution_count": 0,
      "outputs": []
    },
    {
      "cell_type": "code",
      "metadata": {
        "id": "9XNC7QLombpe",
        "colab_type": "code",
        "colab": {
          "base_uri": "https://localhost:8080/",
          "height": 204
        },
        "outputId": "83832829-9cd0-4783-ae93-dd9b3c72619f"
      },
      "source": [
        "df.head()"
      ],
      "execution_count": 8,
      "outputs": [
        {
          "output_type": "execute_result",
          "data": {
            "text/html": [
              "<div>\n",
              "<style scoped>\n",
              "    .dataframe tbody tr th:only-of-type {\n",
              "        vertical-align: middle;\n",
              "    }\n",
              "\n",
              "    .dataframe tbody tr th {\n",
              "        vertical-align: top;\n",
              "    }\n",
              "\n",
              "    .dataframe thead th {\n",
              "        text-align: right;\n",
              "    }\n",
              "</style>\n",
              "<table border=\"1\" class=\"dataframe\">\n",
              "  <thead>\n",
              "    <tr style=\"text-align: right;\">\n",
              "      <th></th>\n",
              "      <th>YEAR</th>\n",
              "      <th>variable</th>\n",
              "      <th>value</th>\n",
              "      <th>date</th>\n",
              "    </tr>\n",
              "  </thead>\n",
              "  <tbody>\n",
              "    <tr>\n",
              "      <th>0</th>\n",
              "      <td>1961</td>\n",
              "      <td>JAN</td>\n",
              "      <td>21.80</td>\n",
              "      <td>1961/JAN</td>\n",
              "    </tr>\n",
              "    <tr>\n",
              "      <th>1</th>\n",
              "      <td>1962</td>\n",
              "      <td>JAN</td>\n",
              "      <td>20.47</td>\n",
              "      <td>1962/JAN</td>\n",
              "    </tr>\n",
              "    <tr>\n",
              "      <th>2</th>\n",
              "      <td>1963</td>\n",
              "      <td>JAN</td>\n",
              "      <td>22.57</td>\n",
              "      <td>1963/JAN</td>\n",
              "    </tr>\n",
              "    <tr>\n",
              "      <th>3</th>\n",
              "      <td>1964</td>\n",
              "      <td>JAN</td>\n",
              "      <td>21.33</td>\n",
              "      <td>1964/JAN</td>\n",
              "    </tr>\n",
              "    <tr>\n",
              "      <th>4</th>\n",
              "      <td>1965</td>\n",
              "      <td>JAN</td>\n",
              "      <td>20.31</td>\n",
              "      <td>1965/JAN</td>\n",
              "    </tr>\n",
              "  </tbody>\n",
              "</table>\n",
              "</div>"
            ],
            "text/plain": [
              "   YEAR variable  value      date\n",
              "0  1961      JAN  21.80  1961/JAN\n",
              "1  1962      JAN  20.47  1962/JAN\n",
              "2  1963      JAN  22.57  1963/JAN\n",
              "3  1964      JAN  21.33  1964/JAN\n",
              "4  1965      JAN  20.31  1965/JAN"
            ]
          },
          "metadata": {
            "tags": []
          },
          "execution_count": 8
        }
      ]
    },
    {
      "cell_type": "code",
      "metadata": {
        "id": "4l3cb9YQnGWE",
        "colab_type": "code",
        "colab": {}
      },
      "source": [
        "df = df.drop(['YEAR', 'variable'], axis=1)"
      ],
      "execution_count": 0,
      "outputs": []
    },
    {
      "cell_type": "code",
      "metadata": {
        "id": "obOewm3nnQ2Q",
        "colab_type": "code",
        "colab": {}
      },
      "source": [
        "df['date'] = pd.to_datetime(df['date'])\n",
        "df.columns = ['y', 'ds']"
      ],
      "execution_count": 0,
      "outputs": []
    },
    {
      "cell_type": "code",
      "metadata": {
        "id": "u-QpKOUGrmtE",
        "colab_type": "code",
        "colab": {}
      },
      "source": [
        "df = (df.sort_values('ds')).reset_index(drop=True)"
      ],
      "execution_count": 0,
      "outputs": []
    },
    {
      "cell_type": "code",
      "metadata": {
        "id": "MhEck2Jmnscb",
        "colab_type": "code",
        "colab": {
          "base_uri": "https://localhost:8080/",
          "height": 419
        },
        "outputId": "2997a0d2-aaf8-4b72-bd72-4846c254c6c3"
      },
      "source": [
        "df"
      ],
      "execution_count": 12,
      "outputs": [
        {
          "output_type": "execute_result",
          "data": {
            "text/html": [
              "<div>\n",
              "<style scoped>\n",
              "    .dataframe tbody tr th:only-of-type {\n",
              "        vertical-align: middle;\n",
              "    }\n",
              "\n",
              "    .dataframe tbody tr th {\n",
              "        vertical-align: top;\n",
              "    }\n",
              "\n",
              "    .dataframe thead th {\n",
              "        text-align: right;\n",
              "    }\n",
              "</style>\n",
              "<table border=\"1\" class=\"dataframe\">\n",
              "  <thead>\n",
              "    <tr style=\"text-align: right;\">\n",
              "      <th></th>\n",
              "      <th>y</th>\n",
              "      <th>ds</th>\n",
              "    </tr>\n",
              "  </thead>\n",
              "  <tbody>\n",
              "    <tr>\n",
              "      <th>0</th>\n",
              "      <td>21.80</td>\n",
              "      <td>1961-01-01</td>\n",
              "    </tr>\n",
              "    <tr>\n",
              "      <th>1</th>\n",
              "      <td>21.84</td>\n",
              "      <td>1961-02-01</td>\n",
              "    </tr>\n",
              "    <tr>\n",
              "      <th>2</th>\n",
              "      <td>20.51</td>\n",
              "      <td>1961-03-01</td>\n",
              "    </tr>\n",
              "    <tr>\n",
              "      <th>3</th>\n",
              "      <td>19.14</td>\n",
              "      <td>1961-04-01</td>\n",
              "    </tr>\n",
              "    <tr>\n",
              "      <th>4</th>\n",
              "      <td>16.05</td>\n",
              "      <td>1961-05-01</td>\n",
              "    </tr>\n",
              "    <tr>\n",
              "      <th>...</th>\n",
              "      <td>...</td>\n",
              "      <td>...</td>\n",
              "    </tr>\n",
              "    <tr>\n",
              "      <th>703</th>\n",
              "      <td>16.10</td>\n",
              "      <td>2019-08-01</td>\n",
              "    </tr>\n",
              "    <tr>\n",
              "      <th>704</th>\n",
              "      <td>18.00</td>\n",
              "      <td>2019-09-01</td>\n",
              "    </tr>\n",
              "    <tr>\n",
              "      <th>705</th>\n",
              "      <td>21.25</td>\n",
              "      <td>2019-10-01</td>\n",
              "    </tr>\n",
              "    <tr>\n",
              "      <th>706</th>\n",
              "      <td>999.90</td>\n",
              "      <td>2019-11-01</td>\n",
              "    </tr>\n",
              "    <tr>\n",
              "      <th>707</th>\n",
              "      <td>999.90</td>\n",
              "      <td>2019-12-01</td>\n",
              "    </tr>\n",
              "  </tbody>\n",
              "</table>\n",
              "<p>708 rows × 2 columns</p>\n",
              "</div>"
            ],
            "text/plain": [
              "          y         ds\n",
              "0     21.80 1961-01-01\n",
              "1     21.84 1961-02-01\n",
              "2     20.51 1961-03-01\n",
              "3     19.14 1961-04-01\n",
              "4     16.05 1961-05-01\n",
              "..      ...        ...\n",
              "703   16.10 2019-08-01\n",
              "704   18.00 2019-09-01\n",
              "705   21.25 2019-10-01\n",
              "706  999.90 2019-11-01\n",
              "707  999.90 2019-12-01\n",
              "\n",
              "[708 rows x 2 columns]"
            ]
          },
          "metadata": {
            "tags": []
          },
          "execution_count": 12
        }
      ]
    },
    {
      "cell_type": "code",
      "metadata": {
        "id": "myO2n-m41zTy",
        "colab_type": "code",
        "outputId": "f06a83f7-4e03-40e2-869b-6796d8949c14",
        "colab": {
          "base_uri": "https://localhost:8080/",
          "height": 170
        }
      },
      "source": [
        "df.info()"
      ],
      "execution_count": 13,
      "outputs": [
        {
          "output_type": "stream",
          "text": [
            "<class 'pandas.core.frame.DataFrame'>\n",
            "RangeIndex: 708 entries, 0 to 707\n",
            "Data columns (total 2 columns):\n",
            " #   Column  Non-Null Count  Dtype         \n",
            "---  ------  --------------  -----         \n",
            " 0   y       708 non-null    float64       \n",
            " 1   ds      708 non-null    datetime64[ns]\n",
            "dtypes: datetime64[ns](1), float64(1)\n",
            "memory usage: 11.2 KB\n"
          ],
          "name": "stdout"
        }
      ]
    },
    {
      "cell_type": "code",
      "metadata": {
        "id": "Gssqr85_t6E0",
        "colab_type": "code",
        "colab": {
          "base_uri": "https://localhost:8080/",
          "height": 297
        },
        "outputId": "9c270c43-05ff-47c8-d609-8dcb4a1b62a8"
      },
      "source": [
        "df.describe()"
      ],
      "execution_count": 14,
      "outputs": [
        {
          "output_type": "execute_result",
          "data": {
            "text/html": [
              "<div>\n",
              "<style scoped>\n",
              "    .dataframe tbody tr th:only-of-type {\n",
              "        vertical-align: middle;\n",
              "    }\n",
              "\n",
              "    .dataframe tbody tr th {\n",
              "        vertical-align: top;\n",
              "    }\n",
              "\n",
              "    .dataframe thead th {\n",
              "        text-align: right;\n",
              "    }\n",
              "</style>\n",
              "<table border=\"1\" class=\"dataframe\">\n",
              "  <thead>\n",
              "    <tr style=\"text-align: right;\">\n",
              "      <th></th>\n",
              "      <th>y</th>\n",
              "    </tr>\n",
              "  </thead>\n",
              "  <tbody>\n",
              "    <tr>\n",
              "      <th>count</th>\n",
              "      <td>708.000000</td>\n",
              "    </tr>\n",
              "    <tr>\n",
              "      <th>mean</th>\n",
              "      <td>146.198729</td>\n",
              "    </tr>\n",
              "    <tr>\n",
              "      <th>std</th>\n",
              "      <td>330.165513</td>\n",
              "    </tr>\n",
              "    <tr>\n",
              "      <th>min</th>\n",
              "      <td>12.080000</td>\n",
              "    </tr>\n",
              "    <tr>\n",
              "      <th>25%</th>\n",
              "      <td>16.457500</td>\n",
              "    </tr>\n",
              "    <tr>\n",
              "      <th>50%</th>\n",
              "      <td>19.650000</td>\n",
              "    </tr>\n",
              "    <tr>\n",
              "      <th>75%</th>\n",
              "      <td>22.152500</td>\n",
              "    </tr>\n",
              "    <tr>\n",
              "      <th>max</th>\n",
              "      <td>999.900000</td>\n",
              "    </tr>\n",
              "  </tbody>\n",
              "</table>\n",
              "</div>"
            ],
            "text/plain": [
              "                y\n",
              "count  708.000000\n",
              "mean   146.198729\n",
              "std    330.165513\n",
              "min     12.080000\n",
              "25%     16.457500\n",
              "50%     19.650000\n",
              "75%     22.152500\n",
              "max    999.900000"
            ]
          },
          "metadata": {
            "tags": []
          },
          "execution_count": 14
        }
      ]
    },
    {
      "cell_type": "code",
      "metadata": {
        "id": "7gFQPpSVuKwX",
        "colab_type": "code",
        "colab": {}
      },
      "source": [
        "df = df[df['y']<500]"
      ],
      "execution_count": 0,
      "outputs": []
    },
    {
      "cell_type": "markdown",
      "metadata": {
        "id": "m42i_Pkesvxf",
        "colab_type": "text"
      },
      "source": [
        "# Modelo"
      ]
    },
    {
      "cell_type": "code",
      "metadata": {
        "id": "9tHA062a8mSl",
        "colab_type": "code",
        "colab": {}
      },
      "source": [
        "df_test = df.iloc[-13:-1, :]\n",
        "df_train = df.iloc[:-13, :]"
      ],
      "execution_count": 0,
      "outputs": []
    },
    {
      "cell_type": "code",
      "metadata": {
        "id": "Oq9g6vN9pI4S",
        "colab_type": "code",
        "colab": {}
      },
      "source": [
        "from fbprophet import Prophet"
      ],
      "execution_count": 0,
      "outputs": []
    },
    {
      "cell_type": "code",
      "metadata": {
        "id": "cFA2Twxf8mSd",
        "colab_type": "code",
        "colab": {
          "base_uri": "https://localhost:8080/",
          "height": 68
        },
        "outputId": "93e345a2-e174-4fcd-8a07-cfc4e2f5960c"
      },
      "source": [
        "m = Prophet()\n",
        "m.fit(df_train)"
      ],
      "execution_count": 18,
      "outputs": [
        {
          "output_type": "stream",
          "text": [
            "INFO:fbprophet:Disabling weekly seasonality. Run prophet with weekly_seasonality=True to override this.\n",
            "INFO:fbprophet:Disabling daily seasonality. Run prophet with daily_seasonality=True to override this.\n"
          ],
          "name": "stderr"
        },
        {
          "output_type": "execute_result",
          "data": {
            "text/plain": [
              "<fbprophet.forecaster.Prophet at 0x7fe6a0e29550>"
            ]
          },
          "metadata": {
            "tags": []
          },
          "execution_count": 18
        }
      ]
    },
    {
      "cell_type": "code",
      "metadata": {
        "id": "tSPXDhh8suLU",
        "colab_type": "code",
        "colab": {}
      },
      "source": [
        "preds = m.predict(df_test)"
      ],
      "execution_count": 0,
      "outputs": []
    },
    {
      "cell_type": "markdown",
      "metadata": {
        "id": "cNJKU5qyxSQ2",
        "colab_type": "text"
      },
      "source": [
        "## Calculando o erro médio absoluto das previsões"
      ]
    },
    {
      "cell_type": "code",
      "metadata": {
        "id": "6q30-gi0s9wE",
        "colab_type": "code",
        "colab": {
          "base_uri": "https://localhost:8080/",
          "height": 34
        },
        "outputId": "d568e265-5610-417b-afee-6f18fd76c1a9"
      },
      "source": [
        "from sklearn.metrics import mean_absolute_error\n",
        "\n",
        "mean_absolute_error(preds['yhat'], df_test['y'])"
      ],
      "execution_count": 20,
      "outputs": [
        {
          "output_type": "execute_result",
          "data": {
            "text/plain": [
              "0.9251765066125502"
            ]
          },
          "metadata": {
            "tags": []
          },
          "execution_count": 20
        }
      ]
    },
    {
      "cell_type": "markdown",
      "metadata": {
        "id": "l5weZHGkxcm8",
        "colab_type": "text"
      },
      "source": [
        "O erro é de menos de 1°C"
      ]
    },
    {
      "cell_type": "markdown",
      "metadata": {
        "id": "kdzBk3-VxTs2",
        "colab_type": "text"
      },
      "source": [
        "## Visualizando os valores previstos pelo modelo"
      ]
    },
    {
      "cell_type": "markdown",
      "metadata": {
        "id": "l8PqzPr7xxOB",
        "colab_type": "text"
      },
      "source": [
        "Pontos dados pelo modelo e pontos previstos."
      ]
    },
    {
      "cell_type": "code",
      "metadata": {
        "id": "URxpdMrFtEiH",
        "colab_type": "code",
        "colab": {
          "base_uri": "https://localhost:8080/",
          "height": 441
        },
        "outputId": "16d85761-64e5-451d-9ee4-f226439b421b"
      },
      "source": [
        "p1 = m.plot(preds)"
      ],
      "execution_count": 21,
      "outputs": [
        {
          "output_type": "display_data",
          "data": {
            "image/png": "[encoded data removed]",
            "text/plain": [
              "<Figure size 720x432 with 1 Axes>"
            ]
          },
          "metadata": {
            "tags": []
          }
        }
      ]
    },
    {
      "cell_type": "markdown",
      "metadata": {
        "id": "X8qe9z2hx-ml",
        "colab_type": "text"
      },
      "source": [
        "Componentes do modelo"
      ]
    },
    {
      "cell_type": "code",
      "metadata": {
        "id": "QL8ung7Ot2eC",
        "colab_type": "code",
        "colab": {
          "base_uri": "https://localhost:8080/",
          "height": 865
        },
        "outputId": "1445cd19-b006-47b2-ee52-d5d9f484d05a"
      },
      "source": [
        "m.plot_components(preds)"
      ],
      "execution_count": 22,
      "outputs": [
        {
          "output_type": "execute_result",
          "data": {
            "image/png": "[encoded data removed]",
            "text/plain": [
              "<Figure size 648x432 with 2 Axes>"
            ]
          },
          "metadata": {
            "tags": []
          },
          "execution_count": 22
        },
        {
          "output_type": "display_data",
          "data": {
            "image/png": "[encoded data removed]",
            "text/plain": [
              "<Figure size 648x432 with 2 Axes>"
            ]
          },
          "metadata": {
            "tags": []
          }
        }
      ]
    },
    {
      "cell_type": "markdown",
      "metadata": {
        "id": "yyo9ZlUyyBSB",
        "colab_type": "text"
      },
      "source": [
        "Diferença entre previsto e modelo."
      ]
    },
    {
      "cell_type": "code",
      "metadata": {
        "id": "TskMCIYlupOE",
        "colab_type": "code",
        "colab": {
          "base_uri": "https://localhost:8080/",
          "height": 282
        },
        "outputId": "5444c714-324c-40b3-cc68-e5335609dfc3"
      },
      "source": [
        "import matplotlib.pyplot as plt\n",
        "\n",
        "plt.plot(df_test['ds'], df_test['y'])\n",
        "plt.plot(df_test['ds'], preds['yhat'])\n",
        "plt.plot(df_test['ds'], preds['yhat_lower'])\n",
        "plt.plot(df_test['ds'], preds['yhat_upper'])"
      ],
      "execution_count": 23,
      "outputs": [
        {
          "output_type": "execute_result",
          "data": {
            "text/plain": [
              "[<matplotlib.lines.Line2D at 0x7fe68fbd6978>]"
            ]
          },
          "metadata": {
            "tags": []
          },
          "execution_count": 23
        },
        {
          "output_type": "display_data",
          "data": {
            "image/png": "[encoded data removed]",
            "text/plain": [
              "<Figure size 432x288 with 1 Axes>"
            ]
          },
          "metadata": {
            "tags": []
          }
        }
      ]
    },
    {
      "cell_type": "markdown",
      "metadata": {
        "id": "F8NFBaWEyLqc",
        "colab_type": "text"
      },
      "source": [
        "Previsão para o ano seguinte"
      ]
    },
    {
      "cell_type": "code",
      "metadata": {
        "id": "6TSL7SfewoAY",
        "colab_type": "code",
        "colab": {
          "base_uri": "https://localhost:8080/",
          "height": 68
        },
        "outputId": "b0b25cd1-a5f8-4890-f143-2649f497cd48"
      },
      "source": [
        "m = Prophet()\n",
        "m.fit(df)"
      ],
      "execution_count": 24,
      "outputs": [
        {
          "output_type": "stream",
          "text": [
            "INFO:fbprophet:Disabling weekly seasonality. Run prophet with weekly_seasonality=True to override this.\n",
            "INFO:fbprophet:Disabling daily seasonality. Run prophet with daily_seasonality=True to override this.\n"
          ],
          "name": "stderr"
        },
        {
          "output_type": "execute_result",
          "data": {
            "text/plain": [
              "<fbprophet.forecaster.Prophet at 0x7fe68fc29048>"
            ]
          },
          "metadata": {
            "tags": []
          },
          "execution_count": 24
        }
      ]
    },
    {
      "cell_type": "code",
      "metadata": {
        "id": "KsnGFEA9yKVg",
        "colab_type": "code",
        "colab": {}
      },
      "source": [
        "future = m.make_future_dataframe(periods=13, freq='M')"
      ],
      "execution_count": 0,
      "outputs": []
    },
    {
      "cell_type": "code",
      "metadata": {
        "id": "B4GXGfBnykdi",
        "colab_type": "code",
        "colab": {
          "base_uri": "https://localhost:8080/",
          "height": 204
        },
        "outputId": "67ceb120-0ea9-4caa-f0c4-74f81da048dc"
      },
      "source": [
        "forecast = m.predict(future)\n",
        "forecast[['ds', 'yhat', 'yhat_lower', 'yhat_upper']].tail()"
      ],
      "execution_count": 26,
      "outputs": [
        {
          "output_type": "execute_result",
          "data": {
            "text/html": [
              "<div>\n",
              "<style scoped>\n",
              "    .dataframe tbody tr th:only-of-type {\n",
              "        vertical-align: middle;\n",
              "    }\n",
              "\n",
              "    .dataframe tbody tr th {\n",
              "        vertical-align: top;\n",
              "    }\n",
              "\n",
              "    .dataframe thead th {\n",
              "        text-align: right;\n",
              "    }\n",
              "</style>\n",
              "<table border=\"1\" class=\"dataframe\">\n",
              "  <thead>\n",
              "    <tr style=\"text-align: right;\">\n",
              "      <th></th>\n",
              "      <th>ds</th>\n",
              "      <th>yhat</th>\n",
              "      <th>yhat_lower</th>\n",
              "      <th>yhat_upper</th>\n",
              "    </tr>\n",
              "  </thead>\n",
              "  <tbody>\n",
              "    <tr>\n",
              "      <th>624</th>\n",
              "      <td>2020-06-30</td>\n",
              "      <td>15.965990</td>\n",
              "      <td>14.636105</td>\n",
              "      <td>17.298570</td>\n",
              "    </tr>\n",
              "    <tr>\n",
              "      <th>625</th>\n",
              "      <td>2020-07-31</td>\n",
              "      <td>16.713248</td>\n",
              "      <td>15.317977</td>\n",
              "      <td>18.172370</td>\n",
              "    </tr>\n",
              "    <tr>\n",
              "      <th>626</th>\n",
              "      <td>2020-08-31</td>\n",
              "      <td>17.603554</td>\n",
              "      <td>16.240421</td>\n",
              "      <td>18.966537</td>\n",
              "    </tr>\n",
              "    <tr>\n",
              "      <th>627</th>\n",
              "      <td>2020-09-30</td>\n",
              "      <td>19.334160</td>\n",
              "      <td>17.993778</td>\n",
              "      <td>20.729004</td>\n",
              "    </tr>\n",
              "    <tr>\n",
              "      <th>628</th>\n",
              "      <td>2020-10-31</td>\n",
              "      <td>20.727181</td>\n",
              "      <td>19.368892</td>\n",
              "      <td>22.135026</td>\n",
              "    </tr>\n",
              "  </tbody>\n",
              "</table>\n",
              "</div>"
            ],
            "text/plain": [
              "            ds       yhat  yhat_lower  yhat_upper\n",
              "624 2020-06-30  15.965990   14.636105   17.298570\n",
              "625 2020-07-31  16.713248   15.317977   18.172370\n",
              "626 2020-08-31  17.603554   16.240421   18.966537\n",
              "627 2020-09-30  19.334160   17.993778   20.729004\n",
              "628 2020-10-31  20.727181   19.368892   22.135026"
            ]
          },
          "metadata": {
            "tags": []
          },
          "execution_count": 26
        }
      ]
    },
    {
      "cell_type": "code",
      "metadata": {
        "id": "QQ07XCY7ylRQ",
        "colab_type": "code",
        "colab": {
          "base_uri": "https://localhost:8080/",
          "height": 282
        },
        "outputId": "76efdafc-13bd-41a3-88a9-3a7a7de30fa2"
      },
      "source": [
        "plt.plot(forecast.tail(15)['ds'], forecast.tail(15)['yhat'])\n",
        "plt.plot(df_test['ds'], df_test['y'])\n",
        "plt.plot(forecast.tail(15)['ds'], forecast.tail(15)['yhat_upper'])\n",
        "plt.plot(forecast.tail(15)['ds'], forecast.tail(15)['yhat_lower'])\n"
      ],
      "execution_count": 27,
      "outputs": [
        {
          "output_type": "execute_result",
          "data": {
            "text/plain": [
              "[<matplotlib.lines.Line2D at 0x7fe68f928c18>]"
            ]
          },
          "metadata": {
            "tags": []
          },
          "execution_count": 27
        },
        {
          "output_type": "display_data",
          "data": {
            "image/png": "[encoded data removed]",
            "text/plain": [
              "<Figure size 432x288 with 1 Axes>"
            ]
          },
          "metadata": {
            "tags": []
          }
        }
      ]
    },
    {
      "cell_type": "code",
      "metadata": {
        "id": "zqZVTeT5zbuT",
        "colab_type": "code",
        "colab": {
          "base_uri": "https://localhost:8080/",
          "height": 1000
        },
        "outputId": "16c23d7d-26a2-42f3-9305-ab2e48b63df4"
      },
      "source": [
        "forecast.tail(24)"
      ],
      "execution_count": 28,
      "outputs": [
        {
          "output_type": "execute_result",
          "data": {
            "text/html": [
              "<div>\n",
              "<style scoped>\n",
              "    .dataframe tbody tr th:only-of-type {\n",
              "        vertical-align: middle;\n",
              "    }\n",
              "\n",
              "    .dataframe tbody tr th {\n",
              "        vertical-align: top;\n",
              "    }\n",
              "\n",
              "    .dataframe thead th {\n",
              "        text-align: right;\n",
              "    }\n",
              "</style>\n",
              "<table border=\"1\" class=\"dataframe\">\n",
              "  <thead>\n",
              "    <tr style=\"text-align: right;\">\n",
              "      <th></th>\n",
              "      <th>ds</th>\n",
              "      <th>trend</th>\n",
              "      <th>yhat_lower</th>\n",
              "      <th>yhat_upper</th>\n",
              "      <th>trend_lower</th>\n",
              "      <th>trend_upper</th>\n",
              "      <th>additive_terms</th>\n",
              "      <th>additive_terms_lower</th>\n",
              "      <th>additive_terms_upper</th>\n",
              "      <th>yearly</th>\n",
              "      <th>yearly_lower</th>\n",
              "      <th>yearly_upper</th>\n",
              "      <th>multiplicative_terms</th>\n",
              "      <th>multiplicative_terms_lower</th>\n",
              "      <th>multiplicative_terms_upper</th>\n",
              "      <th>yhat</th>\n",
              "    </tr>\n",
              "  </thead>\n",
              "  <tbody>\n",
              "    <tr>\n",
              "      <th>605</th>\n",
              "      <td>2018-12-01</td>\n",
              "      <td>19.351197</td>\n",
              "      <td>20.871750</td>\n",
              "      <td>23.590697</td>\n",
              "      <td>19.351197</td>\n",
              "      <td>19.351197</td>\n",
              "      <td>2.901353</td>\n",
              "      <td>2.901353</td>\n",
              "      <td>2.901353</td>\n",
              "      <td>2.901353</td>\n",
              "      <td>2.901353</td>\n",
              "      <td>2.901353</td>\n",
              "      <td>0.0</td>\n",
              "      <td>0.0</td>\n",
              "      <td>0.0</td>\n",
              "      <td>22.252550</td>\n",
              "    </tr>\n",
              "    <tr>\n",
              "      <th>606</th>\n",
              "      <td>2019-01-01</td>\n",
              "      <td>19.355033</td>\n",
              "      <td>21.765827</td>\n",
              "      <td>24.440671</td>\n",
              "      <td>19.355033</td>\n",
              "      <td>19.355033</td>\n",
              "      <td>3.722846</td>\n",
              "      <td>3.722846</td>\n",
              "      <td>3.722846</td>\n",
              "      <td>3.722846</td>\n",
              "      <td>3.722846</td>\n",
              "      <td>3.722846</td>\n",
              "      <td>0.0</td>\n",
              "      <td>0.0</td>\n",
              "      <td>0.0</td>\n",
              "      <td>23.077878</td>\n",
              "    </tr>\n",
              "    <tr>\n",
              "      <th>607</th>\n",
              "      <td>2019-02-01</td>\n",
              "      <td>19.358868</td>\n",
              "      <td>21.820071</td>\n",
              "      <td>24.375611</td>\n",
              "      <td>19.358868</td>\n",
              "      <td>19.358868</td>\n",
              "      <td>3.845293</td>\n",
              "      <td>3.845293</td>\n",
              "      <td>3.845293</td>\n",
              "      <td>3.845293</td>\n",
              "      <td>3.845293</td>\n",
              "      <td>3.845293</td>\n",
              "      <td>0.0</td>\n",
              "      <td>0.0</td>\n",
              "      <td>0.0</td>\n",
              "      <td>23.204161</td>\n",
              "    </tr>\n",
              "    <tr>\n",
              "      <th>608</th>\n",
              "      <td>2019-03-01</td>\n",
              "      <td>19.362333</td>\n",
              "      <td>20.978902</td>\n",
              "      <td>23.819066</td>\n",
              "      <td>19.362333</td>\n",
              "      <td>19.362333</td>\n",
              "      <td>3.034826</td>\n",
              "      <td>3.034826</td>\n",
              "      <td>3.034826</td>\n",
              "      <td>3.034826</td>\n",
              "      <td>3.034826</td>\n",
              "      <td>3.034826</td>\n",
              "      <td>0.0</td>\n",
              "      <td>0.0</td>\n",
              "      <td>0.0</td>\n",
              "      <td>22.397159</td>\n",
              "    </tr>\n",
              "    <tr>\n",
              "      <th>609</th>\n",
              "      <td>2019-04-01</td>\n",
              "      <td>19.366168</td>\n",
              "      <td>18.689190</td>\n",
              "      <td>21.309054</td>\n",
              "      <td>19.366168</td>\n",
              "      <td>19.366168</td>\n",
              "      <td>0.668996</td>\n",
              "      <td>0.668996</td>\n",
              "      <td>0.668996</td>\n",
              "      <td>0.668996</td>\n",
              "      <td>0.668996</td>\n",
              "      <td>0.668996</td>\n",
              "      <td>0.0</td>\n",
              "      <td>0.0</td>\n",
              "      <td>0.0</td>\n",
              "      <td>20.035164</td>\n",
              "    </tr>\n",
              "    <tr>\n",
              "      <th>610</th>\n",
              "      <td>2019-05-01</td>\n",
              "      <td>19.369880</td>\n",
              "      <td>15.847959</td>\n",
              "      <td>18.464190</td>\n",
              "      <td>19.369880</td>\n",
              "      <td>19.369880</td>\n",
              "      <td>-2.218556</td>\n",
              "      <td>-2.218556</td>\n",
              "      <td>-2.218556</td>\n",
              "      <td>-2.218556</td>\n",
              "      <td>-2.218556</td>\n",
              "      <td>-2.218556</td>\n",
              "      <td>0.0</td>\n",
              "      <td>0.0</td>\n",
              "      <td>0.0</td>\n",
              "      <td>17.151323</td>\n",
              "    </tr>\n",
              "    <tr>\n",
              "      <th>611</th>\n",
              "      <td>2019-06-01</td>\n",
              "      <td>19.373715</td>\n",
              "      <td>14.298828</td>\n",
              "      <td>16.916540</td>\n",
              "      <td>19.373715</td>\n",
              "      <td>19.373715</td>\n",
              "      <td>-3.738675</td>\n",
              "      <td>-3.738675</td>\n",
              "      <td>-3.738675</td>\n",
              "      <td>-3.738675</td>\n",
              "      <td>-3.738675</td>\n",
              "      <td>-3.738675</td>\n",
              "      <td>0.0</td>\n",
              "      <td>0.0</td>\n",
              "      <td>0.0</td>\n",
              "      <td>15.635040</td>\n",
              "    </tr>\n",
              "    <tr>\n",
              "      <th>612</th>\n",
              "      <td>2019-07-01</td>\n",
              "      <td>19.377427</td>\n",
              "      <td>14.478005</td>\n",
              "      <td>17.101824</td>\n",
              "      <td>19.377427</td>\n",
              "      <td>19.377427</td>\n",
              "      <td>-3.655068</td>\n",
              "      <td>-3.655068</td>\n",
              "      <td>-3.655068</td>\n",
              "      <td>-3.655068</td>\n",
              "      <td>-3.655068</td>\n",
              "      <td>-3.655068</td>\n",
              "      <td>0.0</td>\n",
              "      <td>0.0</td>\n",
              "      <td>0.0</td>\n",
              "      <td>15.722360</td>\n",
              "    </tr>\n",
              "    <tr>\n",
              "      <th>613</th>\n",
              "      <td>2019-08-01</td>\n",
              "      <td>19.381263</td>\n",
              "      <td>15.298477</td>\n",
              "      <td>18.052444</td>\n",
              "      <td>19.381263</td>\n",
              "      <td>19.381263</td>\n",
              "      <td>-2.678031</td>\n",
              "      <td>-2.678031</td>\n",
              "      <td>-2.678031</td>\n",
              "      <td>-2.678031</td>\n",
              "      <td>-2.678031</td>\n",
              "      <td>-2.678031</td>\n",
              "      <td>0.0</td>\n",
              "      <td>0.0</td>\n",
              "      <td>0.0</td>\n",
              "      <td>16.703232</td>\n",
              "    </tr>\n",
              "    <tr>\n",
              "      <th>614</th>\n",
              "      <td>2019-09-01</td>\n",
              "      <td>19.385098</td>\n",
              "      <td>16.321915</td>\n",
              "      <td>18.932835</td>\n",
              "      <td>19.385098</td>\n",
              "      <td>19.385098</td>\n",
              "      <td>-1.728423</td>\n",
              "      <td>-1.728423</td>\n",
              "      <td>-1.728423</td>\n",
              "      <td>-1.728423</td>\n",
              "      <td>-1.728423</td>\n",
              "      <td>-1.728423</td>\n",
              "      <td>0.0</td>\n",
              "      <td>0.0</td>\n",
              "      <td>0.0</td>\n",
              "      <td>17.656675</td>\n",
              "    </tr>\n",
              "    <tr>\n",
              "      <th>615</th>\n",
              "      <td>2019-10-01</td>\n",
              "      <td>19.388810</td>\n",
              "      <td>18.039965</td>\n",
              "      <td>20.646916</td>\n",
              "      <td>19.388810</td>\n",
              "      <td>19.388810</td>\n",
              "      <td>-0.090320</td>\n",
              "      <td>-0.090320</td>\n",
              "      <td>-0.090320</td>\n",
              "      <td>-0.090320</td>\n",
              "      <td>-0.090320</td>\n",
              "      <td>-0.090320</td>\n",
              "      <td>0.0</td>\n",
              "      <td>0.0</td>\n",
              "      <td>0.0</td>\n",
              "      <td>19.298490</td>\n",
              "    </tr>\n",
              "    <tr>\n",
              "      <th>616</th>\n",
              "      <td>2019-10-31</td>\n",
              "      <td>19.392522</td>\n",
              "      <td>19.197963</td>\n",
              "      <td>21.770990</td>\n",
              "      <td>19.392522</td>\n",
              "      <td>19.392522</td>\n",
              "      <td>1.162640</td>\n",
              "      <td>1.162640</td>\n",
              "      <td>1.162640</td>\n",
              "      <td>1.162640</td>\n",
              "      <td>1.162640</td>\n",
              "      <td>1.162640</td>\n",
              "      <td>0.0</td>\n",
              "      <td>0.0</td>\n",
              "      <td>0.0</td>\n",
              "      <td>20.555162</td>\n",
              "    </tr>\n",
              "    <tr>\n",
              "      <th>617</th>\n",
              "      <td>2019-11-30</td>\n",
              "      <td>19.396234</td>\n",
              "      <td>21.141089</td>\n",
              "      <td>23.714128</td>\n",
              "      <td>19.396234</td>\n",
              "      <td>19.396234</td>\n",
              "      <td>3.074363</td>\n",
              "      <td>3.074363</td>\n",
              "      <td>3.074363</td>\n",
              "      <td>3.074363</td>\n",
              "      <td>3.074363</td>\n",
              "      <td>3.074363</td>\n",
              "      <td>0.0</td>\n",
              "      <td>0.0</td>\n",
              "      <td>0.0</td>\n",
              "      <td>22.470596</td>\n",
              "    </tr>\n",
              "    <tr>\n",
              "      <th>618</th>\n",
              "      <td>2019-12-31</td>\n",
              "      <td>19.400069</td>\n",
              "      <td>22.105668</td>\n",
              "      <td>24.712330</td>\n",
              "      <td>19.400069</td>\n",
              "      <td>19.400069</td>\n",
              "      <td>4.013674</td>\n",
              "      <td>4.013674</td>\n",
              "      <td>4.013674</td>\n",
              "      <td>4.013674</td>\n",
              "      <td>4.013674</td>\n",
              "      <td>4.013674</td>\n",
              "      <td>0.0</td>\n",
              "      <td>0.0</td>\n",
              "      <td>0.0</td>\n",
              "      <td>23.413743</td>\n",
              "    </tr>\n",
              "    <tr>\n",
              "      <th>619</th>\n",
              "      <td>2020-01-31</td>\n",
              "      <td>19.403905</td>\n",
              "      <td>21.397587</td>\n",
              "      <td>24.081430</td>\n",
              "      <td>19.403905</td>\n",
              "      <td>19.403905</td>\n",
              "      <td>3.363789</td>\n",
              "      <td>3.363789</td>\n",
              "      <td>3.363789</td>\n",
              "      <td>3.363789</td>\n",
              "      <td>3.363789</td>\n",
              "      <td>3.363789</td>\n",
              "      <td>0.0</td>\n",
              "      <td>0.0</td>\n",
              "      <td>0.0</td>\n",
              "      <td>22.767693</td>\n",
              "    </tr>\n",
              "    <tr>\n",
              "      <th>620</th>\n",
              "      <td>2020-02-29</td>\n",
              "      <td>19.407493</td>\n",
              "      <td>21.243965</td>\n",
              "      <td>23.939748</td>\n",
              "      <td>19.407493</td>\n",
              "      <td>19.407493</td>\n",
              "      <td>3.157250</td>\n",
              "      <td>3.157250</td>\n",
              "      <td>3.157250</td>\n",
              "      <td>3.157250</td>\n",
              "      <td>3.157250</td>\n",
              "      <td>3.157250</td>\n",
              "      <td>0.0</td>\n",
              "      <td>0.0</td>\n",
              "      <td>0.0</td>\n",
              "      <td>22.564743</td>\n",
              "    </tr>\n",
              "    <tr>\n",
              "      <th>621</th>\n",
              "      <td>2020-03-31</td>\n",
              "      <td>19.411328</td>\n",
              "      <td>18.653944</td>\n",
              "      <td>21.349878</td>\n",
              "      <td>19.411307</td>\n",
              "      <td>19.411329</td>\n",
              "      <td>0.618681</td>\n",
              "      <td>0.618681</td>\n",
              "      <td>0.618681</td>\n",
              "      <td>0.618681</td>\n",
              "      <td>0.618681</td>\n",
              "      <td>0.618681</td>\n",
              "      <td>0.0</td>\n",
              "      <td>0.0</td>\n",
              "      <td>0.0</td>\n",
              "      <td>20.030009</td>\n",
              "    </tr>\n",
              "    <tr>\n",
              "      <th>622</th>\n",
              "      <td>2020-04-30</td>\n",
              "      <td>19.415040</td>\n",
              "      <td>15.861060</td>\n",
              "      <td>18.640265</td>\n",
              "      <td>19.414976</td>\n",
              "      <td>19.415067</td>\n",
              "      <td>-2.223762</td>\n",
              "      <td>-2.223762</td>\n",
              "      <td>-2.223762</td>\n",
              "      <td>-2.223762</td>\n",
              "      <td>-2.223762</td>\n",
              "      <td>-2.223762</td>\n",
              "      <td>0.0</td>\n",
              "      <td>0.0</td>\n",
              "      <td>0.0</td>\n",
              "      <td>17.191278</td>\n",
              "    </tr>\n",
              "    <tr>\n",
              "      <th>623</th>\n",
              "      <td>2020-05-31</td>\n",
              "      <td>19.418875</td>\n",
              "      <td>14.345200</td>\n",
              "      <td>16.866262</td>\n",
              "      <td>19.418747</td>\n",
              "      <td>19.418947</td>\n",
              "      <td>-3.811441</td>\n",
              "      <td>-3.811441</td>\n",
              "      <td>-3.811441</td>\n",
              "      <td>-3.811441</td>\n",
              "      <td>-3.811441</td>\n",
              "      <td>-3.811441</td>\n",
              "      <td>0.0</td>\n",
              "      <td>0.0</td>\n",
              "      <td>0.0</td>\n",
              "      <td>15.607434</td>\n",
              "    </tr>\n",
              "    <tr>\n",
              "      <th>624</th>\n",
              "      <td>2020-06-30</td>\n",
              "      <td>19.422587</td>\n",
              "      <td>14.636105</td>\n",
              "      <td>17.298570</td>\n",
              "      <td>19.422371</td>\n",
              "      <td>19.422714</td>\n",
              "      <td>-3.456597</td>\n",
              "      <td>-3.456597</td>\n",
              "      <td>-3.456597</td>\n",
              "      <td>-3.456597</td>\n",
              "      <td>-3.456597</td>\n",
              "      <td>-3.456597</td>\n",
              "      <td>0.0</td>\n",
              "      <td>0.0</td>\n",
              "      <td>0.0</td>\n",
              "      <td>15.965990</td>\n",
              "    </tr>\n",
              "    <tr>\n",
              "      <th>625</th>\n",
              "      <td>2020-07-31</td>\n",
              "      <td>19.426423</td>\n",
              "      <td>15.317977</td>\n",
              "      <td>18.172370</td>\n",
              "      <td>19.426126</td>\n",
              "      <td>19.426620</td>\n",
              "      <td>-2.713175</td>\n",
              "      <td>-2.713175</td>\n",
              "      <td>-2.713175</td>\n",
              "      <td>-2.713175</td>\n",
              "      <td>-2.713175</td>\n",
              "      <td>-2.713175</td>\n",
              "      <td>0.0</td>\n",
              "      <td>0.0</td>\n",
              "      <td>0.0</td>\n",
              "      <td>16.713248</td>\n",
              "    </tr>\n",
              "    <tr>\n",
              "      <th>626</th>\n",
              "      <td>2020-08-31</td>\n",
              "      <td>19.430258</td>\n",
              "      <td>16.240421</td>\n",
              "      <td>18.966537</td>\n",
              "      <td>19.429868</td>\n",
              "      <td>19.430523</td>\n",
              "      <td>-1.826705</td>\n",
              "      <td>-1.826705</td>\n",
              "      <td>-1.826705</td>\n",
              "      <td>-1.826705</td>\n",
              "      <td>-1.826705</td>\n",
              "      <td>-1.826705</td>\n",
              "      <td>0.0</td>\n",
              "      <td>0.0</td>\n",
              "      <td>0.0</td>\n",
              "      <td>17.603554</td>\n",
              "    </tr>\n",
              "    <tr>\n",
              "      <th>627</th>\n",
              "      <td>2020-09-30</td>\n",
              "      <td>19.433970</td>\n",
              "      <td>17.993778</td>\n",
              "      <td>20.729004</td>\n",
              "      <td>19.433506</td>\n",
              "      <td>19.434294</td>\n",
              "      <td>-0.099810</td>\n",
              "      <td>-0.099810</td>\n",
              "      <td>-0.099810</td>\n",
              "      <td>-0.099810</td>\n",
              "      <td>-0.099810</td>\n",
              "      <td>-0.099810</td>\n",
              "      <td>0.0</td>\n",
              "      <td>0.0</td>\n",
              "      <td>0.0</td>\n",
              "      <td>19.334160</td>\n",
              "    </tr>\n",
              "    <tr>\n",
              "      <th>628</th>\n",
              "      <td>2020-10-31</td>\n",
              "      <td>19.437806</td>\n",
              "      <td>19.368892</td>\n",
              "      <td>22.135026</td>\n",
              "      <td>19.437239</td>\n",
              "      <td>19.438200</td>\n",
              "      <td>1.289375</td>\n",
              "      <td>1.289375</td>\n",
              "      <td>1.289375</td>\n",
              "      <td>1.289375</td>\n",
              "      <td>1.289375</td>\n",
              "      <td>1.289375</td>\n",
              "      <td>0.0</td>\n",
              "      <td>0.0</td>\n",
              "      <td>0.0</td>\n",
              "      <td>20.727181</td>\n",
              "    </tr>\n",
              "  </tbody>\n",
              "</table>\n",
              "</div>"
            ],
            "text/plain": [
              "            ds      trend  ...  multiplicative_terms_upper       yhat\n",
              "605 2018-12-01  19.351197  ...                         0.0  22.252550\n",
              "606 2019-01-01  19.355033  ...                         0.0  23.077878\n",
              "607 2019-02-01  19.358868  ...                         0.0  23.204161\n",
              "608 2019-03-01  19.362333  ...                         0.0  22.397159\n",
              "609 2019-04-01  19.366168  ...                         0.0  20.035164\n",
              "610 2019-05-01  19.369880  ...                         0.0  17.151323\n",
              "611 2019-06-01  19.373715  ...                         0.0  15.635040\n",
              "612 2019-07-01  19.377427  ...                         0.0  15.722360\n",
              "613 2019-08-01  19.381263  ...                         0.0  16.703232\n",
              "614 2019-09-01  19.385098  ...                         0.0  17.656675\n",
              "615 2019-10-01  19.388810  ...                         0.0  19.298490\n",
              "616 2019-10-31  19.392522  ...                         0.0  20.555162\n",
              "617 2019-11-30  19.396234  ...                         0.0  22.470596\n",
              "618 2019-12-31  19.400069  ...                         0.0  23.413743\n",
              "619 2020-01-31  19.403905  ...                         0.0  22.767693\n",
              "620 2020-02-29  19.407493  ...                         0.0  22.564743\n",
              "621 2020-03-31  19.411328  ...                         0.0  20.030009\n",
              "622 2020-04-30  19.415040  ...                         0.0  17.191278\n",
              "623 2020-05-31  19.418875  ...                         0.0  15.607434\n",
              "624 2020-06-30  19.422587  ...                         0.0  15.965990\n",
              "625 2020-07-31  19.426423  ...                         0.0  16.713248\n",
              "626 2020-08-31  19.430258  ...                         0.0  17.603554\n",
              "627 2020-09-30  19.433970  ...                         0.0  19.334160\n",
              "628 2020-10-31  19.437806  ...                         0.0  20.727181\n",
              "\n",
              "[24 rows x 16 columns]"
            ]
          },
          "metadata": {
            "tags": []
          },
          "execution_count": 28
        }
      ]
    },
    {
      "cell_type": "code",
      "metadata": {
        "id": "U3hc4LeSz0cN",
        "colab_type": "code",
        "colab": {}
      },
      "source": [
        ""
      ],
      "execution_count": 0,
      "outputs": []
    }
  ]
}